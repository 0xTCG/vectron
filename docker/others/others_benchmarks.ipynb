{
 "cells": [
  {
   "cell_type": "markdown",
   "id": "20a2c2fe",
   "metadata": {},
   "source": [
    "# Other State-of-the-Art Implementations:"
   ]
  },
  {
   "cell_type": "markdown",
   "id": "3355b3c8",
   "metadata": {},
   "source": [
    "The following experiments test the other state-of-the-art implementations (in the order of their appearance in the Vectron paper) on small dataset (4096 pairs of nucleotide sequences).\n",
    "The detailed build instructions for each tool are located in `Dockerfile`. Tool-specific notes are located in the respective tool sections."
   ]
  },
  {
   "cell_type": "markdown",
   "id": "ad25dd63",
   "metadata": {},
   "source": [
    "### SSW"
   ]
  },
  {
   "cell_type": "code",
   "execution_count": 1,
   "id": "d2647e89",
   "metadata": {},
   "outputs": [
    {
     "name": "stdout",
     "output_type": "stream",
     "text": [
      "CPU time: 0.281688 seconds\n",
      "0.28user 0.00system 0:00.28elapsed 99%CPU (0avgtext+0avgdata 1044maxresident)k\n",
      "0inputs+1112outputs (0major+289minor)pagefaults 0swaps\n"
     ]
    }
   ],
   "source": [
    "! time /ssw/src/ssw_test /others/data/seqx.fasta /others/data/seqy.fasta >ssw_out.txt"
   ]
  },
  {
   "cell_type": "markdown",
   "id": "32e7c6c2",
   "metadata": {},
   "source": [
    "### Parasail"
   ]
  },
  {
   "cell_type": "code",
   "execution_count": 2,
   "id": "614cbac9",
   "metadata": {},
   "outputs": [
    {
     "name": "stdout",
     "output_type": "stream",
     "text": [
      "10.41user 0.12system 0:10.66elapsed 98%CPU (0avgtext+0avgdata 202472maxresident)k\n",
      "0inputs+312outputs (0major+63984minor)pagefaults 0swaps\n"
     ]
    }
   ],
   "source": [
    "! time /root/parasail/build/parasail_aligner -f /others/data/seqx.fasta -q /others/data/seqy.fasta >parasail_out.txt"
   ]
  },
  {
   "cell_type": "markdown",
   "id": "d14f3f26",
   "metadata": {},
   "source": [
    "### SeqAn "
   ]
  },
  {
   "cell_type": "code",
   "execution_count": 3,
   "id": "b367b5b2",
   "metadata": {},
   "outputs": [
    {
     "name": "stdout",
     "output_type": "stream",
     "text": [
      "0.34user 0.00system 0:00.35elapsed 99%CPU (0avgtext+0avgdata 2360maxresident)k\n",
      "0inputs+40outputs (0major+687minor)pagefaults 0swaps\n"
     ]
    }
   ],
   "source": [
    "! time /root/seqan/smith_waterman_seqan /others/data/seqx.fasta /others/data/seqy.fasta >seqan_out.txt"
   ]
  },
  {
   "cell_type": "markdown",
   "id": "5e575c2a",
   "metadata": {},
   "source": [
    "### Codon (with Seq's `inter_align`):"
   ]
  },
  {
   "cell_type": "code",
   "execution_count": 4,
   "id": "1eb474c0",
   "metadata": {},
   "outputs": [],
   "source": [
    "! codon build -plugin /codon-seq/ seq_interalign.codon -release"
   ]
  },
  {
   "cell_type": "code",
   "execution_count": 5,
   "id": "0d3add1d",
   "metadata": {},
   "outputs": [
    {
     "name": "stdout",
     "output_type": "stream",
     "text": [
      "total took 0.392547s\n",
      "0.43user 1.77system 0:02.34elapsed 93%CPU (0avgtext+0avgdata 161676maxresident)k\n",
      "0inputs+48outputs (0major+9899minor)pagefaults 0swaps\n"
     ]
    }
   ],
   "source": [
    "! time ./seq_interalign >seq_interalign.txt"
   ]
  },
  {
   "cell_type": "markdown",
   "id": "b204d631",
   "metadata": {},
   "source": [
    "### ADEPT:\n",
    "\n",
    "ADEPT is unable to process query sequences that are larger than 300 elements. Therefore, a special dataset was prepared with $256\\times 256$ (65,536) sequence pairs to test ADEPT against Vectron. Since ADEPT aligns each index of the query DB to its corresponding index in the target DB, the $256\\times 256$ query and target sequences were adopted (no pun intended) in a way that both ADEPT and Vectron would do identical alignments. The results are shown below."
   ]
  },
  {
   "cell_type": "code",
   "execution_count": 6,
   "id": "95111495",
   "metadata": {},
   "outputs": [
    {
     "name": "stdout",
     "output_type": "stream",
     "text": [
      "\n",
      "-----------------------\n",
      "       SIMPLE DNA      \n",
      "-----------------------\n",
      "\n",
      "STATUS: Launching driver\n",
      "\n",
      "\n",
      "STATUS: Writing results...\n",
      "correctness test passed\n",
      "0.23user 1.93system 0:02.24elapsed 96%CPU (0avgtext+0avgdata 253160maxresident)k\n",
      "0inputs+2048outputs (0major+37172minor)pagefaults 0swaps\n"
     ]
    }
   ],
   "source": [
    "! time /root/ADEPT/build/examples/simple_sw/simple_sw /others/data/seqy_adept.fasta /others/data/seqx_adept.fasta out.txt res.txt"
   ]
  },
  {
   "cell_type": "code",
   "execution_count": 7,
   "id": "9c9e4cdc-29b5-4638-adaf-8de3a08e6da4",
   "metadata": {},
   "outputs": [],
   "source": [
    "! codon build /vectron/docker/experiments_docker/source/vectron.codon -release"
   ]
  },
  {
   "cell_type": "code",
   "execution_count": 8,
   "id": "c6d8e7eb-e018-43af-b12f-08c06b561120",
   "metadata": {},
   "outputs": [],
   "source": [
    " ! /vectron/docker/experiments_docker/source/vectron /codon-seq/ /vectron/ /vectron/docker/experiments_docker/source/vectron_int/smith_waterman.codon >/dev/null"
   ]
  },
  {
   "cell_type": "code",
   "execution_count": 9,
   "id": "2173f8b9-2a30-4727-9c0b-763c79afcb48",
   "metadata": {},
   "outputs": [
    {
     "name": "stdout",
     "output_type": "stream",
     "text": [
      "Total:  took 1.69735s\n"
     ]
    }
   ],
   "source": [
    "! /vectron/docker/experiments_docker/source/vectron_int/smith_waterman /others/data/seqy.txt /others/data/seqx.txt >vectron_out.txt"
   ]
  },
  {
   "cell_type": "markdown",
   "id": "6b399d21",
   "metadata": {},
   "source": [
    "### SWIPE"
   ]
  },
  {
   "cell_type": "code",
   "execution_count": 10,
   "id": "42a4e8cb",
   "metadata": {},
   "outputs": [
    {
     "name": "stdout",
     "output_type": "stream",
     "text": [
      "9.38user 0.08system 0:09.49elapsed 99%CPU (0avgtext+0avgdata 1576maxresident)k\n",
      "0inputs+19288outputs (0major+14435minor)pagefaults 0swaps\n"
     ]
    }
   ],
   "source": [
    "! time /root/swipe/swipe -d /swipe/swipe_data/seqx.fasta -i /swipe/swipe_data/seqy.fasta >swipe_out.txt"
   ]
  },
  {
   "cell_type": "markdown",
   "id": "c8c3306d",
   "metadata": {},
   "source": [
    "### RV-optimized code (baseline C++ scripts with the RV-specific annotations)\n",
    "\n",
    "Note that the precompiled `libRV.so` is provided in the package to avoid long and error-prone recompiling of LLVM+RV from scratch."
   ]
  },
  {
   "cell_type": "code",
   "execution_count": 11,
   "id": "9aead434",
   "metadata": {},
   "outputs": [],
   "source": [
    "! clang++-16 -fplugin=/root/libRV.so -mllvm -rv-loopvec -fno-unroll-loops /RV/cpp_sw_rv.cpp -o /RV/cpp_sw_rv\n",
    "! clang++-16 -fplugin=/root/libRV.so -mllvm -rv-loopvec -fno-unroll-loops /RV/cpp_nmw_rv.cpp -o /RV/cpp_nmw_rv\n",
    "! clang++-16 -fplugin=/root/libRV.so -mllvm -rv-loopvec -fno-unroll-loops /RV/cpp_mt_rv.cpp -o /RV/cpp_mt_rv\n",
    "! clang++-16 -fplugin=/root/libRV.so -mllvm -rv-loopvec -fno-unroll-loops /RV/cpp_mcp_rv.cpp -o /RV/cpp_mcp_rv\n",
    "! clang++-16 -fplugin=/root/libRV.so -mllvm -rv-loopvec -fno-unroll-loops /RV/cpp_lcs_rv.cpp -o /RV/cpp_lcs_rv\n",
    "! clang++-16 -fplugin=/root/libRV.so -mllvm -rv-loopvec -fno-unroll-loops /RV/cpp_LD_rv.cpp -o /RV/cpp_LD_rv\n",
    "! clang++-16 -fplugin=/root/libRV.so -mllvm -rv-loopvec -fno-unroll-loops /RV/cpp_hd_rv.cpp -o /RV/cpp_hd_rv"
   ]
  },
  {
   "cell_type": "markdown",
   "id": "6ee11743",
   "metadata": {},
   "source": [
    "Below prints the runtime of the C++ files using the RV vectorizer:"
   ]
  },
  {
   "cell_type": "code",
   "execution_count": 12,
   "id": "fa889d64",
   "metadata": {},
   "outputs": [
    {
     "name": "stdout",
     "output_type": "stream",
     "text": [
      "50.93user 12.12system 1:03.21elapsed 99%CPU (0avgtext+0avgdata 12866004maxresident)k\n",
      "0inputs+48outputs (0major+11305131minor)pagefaults 0swaps\n"
     ]
    }
   ],
   "source": [
    "! time /RV/cpp_sw_rv /vectron/docker/experiments_docker/data/cpp_small/seqy.txt /vectron/docker/experiments_docker/data/cpp_small/seqx.txt >rv_out.txt"
   ]
  },
  {
   "cell_type": "code",
   "execution_count": 13,
   "id": "705d96d7",
   "metadata": {},
   "outputs": [
    {
     "name": "stdout",
     "output_type": "stream",
     "text": [
      "57.86user 9.01system 1:07.03elapsed 99%CPU (0avgtext+0avgdata 6561736maxresident)k\n",
      "0inputs+48outputs (0major+4856848minor)pagefaults 0swaps\n"
     ]
    }
   ],
   "source": [
    "! time /RV/cpp_nmw_rv /vectron/docker/experiments_docker/data/cpp_small/seqy.txt /vectron/docker/experiments_docker/data/cpp_small/seqx.txt >rv_out.txt"
   ]
  },
  {
   "cell_type": "code",
   "execution_count": 14,
   "id": "d963fec0",
   "metadata": {},
   "outputs": [
    {
     "name": "stdout",
     "output_type": "stream",
     "text": [
      "43.42user 3.27system 0:46.83elapsed 99%CPU (0avgtext+0avgdata 2194824maxresident)k\n",
      "0inputs+48outputs (0major+1635850minor)pagefaults 0swaps\n"
     ]
    }
   ],
   "source": [
    "! time /RV/cpp_mt_rv /vectron/docker/experiments_docker/data/cpp_small/seqy.txt /vectron/docker/experiments_docker/data/cpp_small/seqx.txt >rv_out.txt"
   ]
  },
  {
   "cell_type": "code",
   "execution_count": 15,
   "id": "23f5087c",
   "metadata": {},
   "outputs": [
    {
     "name": "stdout",
     "output_type": "stream",
     "text": [
      "39.84user 1.68system 0:41.63elapsed 99%CPU (0avgtext+0avgdata 2194824maxresident)k\n",
      "0inputs+48outputs (0major+1523416minor)pagefaults 0swaps\n"
     ]
    }
   ],
   "source": [
    "! time /RV/cpp_mcp_rv /vectron/docker/experiments_docker/data/cpp_small/seqy.txt /vectron/docker/experiments_docker/data/cpp_small/seqx.txt >rv_out.txt"
   ]
  },
  {
   "cell_type": "code",
   "execution_count": 16,
   "id": "83f3c0ac",
   "metadata": {},
   "outputs": [
    {
     "name": "stdout",
     "output_type": "stream",
     "text": [
      "44.03user 3.94system 0:48.09elapsed 99%CPU (0avgtext+0avgdata 2190600maxresident)k\n",
      "0inputs+40outputs (0major+1630408minor)pagefaults 0swaps\n"
     ]
    }
   ],
   "source": [
    "! time /RV/cpp_lcs_rv /vectron/docker/experiments_docker/data/cpp_small/seqy.txt /vectron/docker/experiments_docker/data/cpp_small/seqx.txt >rv_out.txt"
   ]
  },
  {
   "cell_type": "code",
   "execution_count": 17,
   "id": "e112d3a4",
   "metadata": {},
   "outputs": [
    {
     "name": "stdout",
     "output_type": "stream",
     "text": [
      "44.00user 3.94system 0:48.06elapsed 99%CPU (0avgtext+0avgdata 2190600maxresident)k\n",
      "0inputs+48outputs (0major+1630728minor)pagefaults 0swaps\n"
     ]
    }
   ],
   "source": [
    "! time /RV/cpp_LD_rv /vectron/docker/experiments_docker/data/cpp_small/seqy.txt /vectron/docker/experiments_docker/data/cpp_small/seqx.txt >rv_out.txt"
   ]
  },
  {
   "cell_type": "code",
   "execution_count": 18,
   "id": "90bce2f9",
   "metadata": {},
   "outputs": [
    {
     "name": "stdout",
     "output_type": "stream",
     "text": [
      "26.12user 3.74system 0:29.94elapsed 99%CPU (0avgtext+0avgdata 2194824maxresident)k\n",
      "0inputs+40outputs (0major+1629722minor)pagefaults 0swaps\n"
     ]
    }
   ],
   "source": [
    "! time /RV/cpp_hd_rv /vectron/docker/experiments_docker/data/cpp_small/seqy.txt /vectron/docker/experiments_docker/data/cpp_small/seqx.txt >rv_out.txt"
   ]
  },
  {
   "cell_type": "markdown",
   "id": "7b57b1d1",
   "metadata": {},
   "source": [
    "### LLVM Polyhedral Optimization"
   ]
  },
  {
   "cell_type": "code",
   "execution_count": 19,
   "id": "5b39459e",
   "metadata": {},
   "outputs": [],
   "source": [
    "! clang++ -mllvm --polly /vectron/docker/experiments_docker/source/cpp/smith_waterman.cpp -o /vectron/docker/experiments_docker/source/cpp/smith_waterman"
   ]
  },
  {
   "cell_type": "code",
   "execution_count": 20,
   "id": "0936f413",
   "metadata": {},
   "outputs": [
    {
     "name": "stdout",
     "output_type": "stream",
     "text": [
      "50.17user 13.35system 1:03.68elapsed 99%CPU (0avgtext+0avgdata 12865888maxresident)k\n",
      "0inputs+48outputs (0major+11081941minor)pagefaults 0swaps\n"
     ]
    }
   ],
   "source": [
    "! time /vectron/docker/experiments_docker/source/cpp/smith_waterman /vectron/docker/experiments_docker/data/cpp_small/seqy.txt /vectron/docker/experiments_docker/data/cpp_small/seqx.txt >poly_out.txt"
   ]
  },
  {
   "cell_type": "markdown",
   "id": "d2002339",
   "metadata": {},
   "source": [
    "## Other Tools\n",
    "\n",
    "SW# utilizes CUDA 11 and is not compatible with our CUDA 12 Docker image. Aalign needs both CUDA 11 and `icpc` (Intel's C++ compiler). \n",
    "To benchmark these two implementations, please use the CUDA 11-specific `Dockerfile` in `cuda11` directory to build CUDA 11 image and execute the commands below therein.\n",
    "\n",
    "> Note: The Intel compiler suite installation takes some time to install and needs a few GB of disk space.\n",
    "\n",
    "### SW# benchmark:\n",
    "\n",
    "```bash\n",
    "time /swsharp/bin/swsharpdb -i /others/data/seqx.fasta -j /others/data/seqy.fasta\n",
    "```\n",
    "\n",
    "### Aalign benchmark:\n",
    "\n",
    "```bash\n",
    "time /aalign/ModularDesign/SmithWatermanAffineGapMod.out -q /others/data/seqx.fasta -d /others/data/seqy.fasta\n",
    "```\n"
   ]
  }
 ],
 "metadata": {
  "kernelspec": {
   "display_name": "Python 3 (ipykernel)",
   "language": "python",
   "name": "python3"
  },
  "language_info": {
   "codemirror_mode": {
    "name": "ipython",
    "version": 3
   },
   "file_extension": ".py",
   "mimetype": "text/x-python",
   "name": "python",
   "nbconvert_exporter": "python",
   "pygments_lexer": "ipython3",
   "version": "3.10.5"
  }
 },
 "nbformat": 4,
 "nbformat_minor": 5
}
