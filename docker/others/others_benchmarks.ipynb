{
 "cells": [
  {
   "cell_type": "markdown",
   "id": "20a2c2fe",
   "metadata": {},
   "source": [
    "# Other State-of-the-Art Implementations:"
   ]
  },
  {
   "cell_type": "markdown",
   "id": "3355b3c8",
   "metadata": {},
   "source": [
    "## The following modules will test the other state of the art implementations in the article in the order of their appearance for 4096 pairs of nucleotide sequences:"
   ]
  },
  {
   "cell_type": "markdown",
   "id": "ad25dd63",
   "metadata": {},
   "source": [
    "### SSW:"
   ]
  },
  {
   "cell_type": "code",
   "execution_count": null,
   "id": "d2647e89",
   "metadata": {},
   "outputs": [],
   "source": [
    "! time /ssw/src/ssw_test /others/data/seqx.fasta /others/data/seqy.fasta"
   ]
  },
  {
   "cell_type": "markdown",
   "id": "32e7c6c2",
   "metadata": {},
   "source": [
    "### Parasail:"
   ]
  },
  {
   "cell_type": "code",
   "execution_count": null,
   "id": "614cbac9",
   "metadata": {},
   "outputs": [],
   "source": [
    "! time /parasail/build/parasail_aligner -f /others/data/seqx.fasta -q /others/data/seqy.fasta"
   ]
  },
  {
   "cell_type": "markdown",
   "id": "d14f3f26",
   "metadata": {},
   "source": [
    "### SeqAn: Note that SeqAn was very difficult to work with external files. However the below bash command will test the package in equal settings for 48 pairs of sequences. The run time for 4096 pairs of sequences can be extrapolated by multiplying the resulting runtime by 85.3"
   ]
  },
  {
   "cell_type": "code",
   "execution_count": null,
   "id": "b367b5b2",
   "metadata": {},
   "outputs": [],
   "source": [
    "! time /seqan/build/bin/test_align_simd_global_equal_length_avx2"
   ]
  },
  {
   "cell_type": "markdown",
   "id": "5e575c2a",
   "metadata": {},
   "source": [
    "### Codon (seq) inter_align:"
   ]
  },
  {
   "cell_type": "code",
   "execution_count": null,
   "id": "0d3add1d",
   "metadata": {},
   "outputs": [],
   "source": [
    "! time ./seq_interalign"
   ]
  },
  {
   "cell_type": "markdown",
   "id": "b204d631",
   "metadata": {},
   "source": [
    "### ADEPT: ADEPT's test are unable to perform for arbitrary number of pairs with arbitrary lengths, and their DNA test suite of 3000 sequence pairs of length 150 was used to perform benchmarks, the resulting runtime must be multiplied by 4.66 to get the equivalent of other runtime benchmarks."
   ]
  },
  {
   "cell_type": "code",
   "execution_count": null,
   "id": "95111495",
   "metadata": {},
   "outputs": [],
   "source": [
    "! time /ADEPT/build/examples/simple_sw/simple_sw /ADEPT/test-data/dna-query.fasta /ADEPT/test-data/dna-reference.fasta out.txt res.txt"
   ]
  },
  {
   "cell_type": "markdown",
   "id": "6b399d21",
   "metadata": {},
   "source": [
    "### SWIPE:"
   ]
  },
  {
   "cell_type": "code",
   "execution_count": null,
   "id": "42a4e8cb",
   "metadata": {},
   "outputs": [],
   "source": [
    "! time /swipe/swipe -d /swipe/swipe_data/seqx.fasta -i /swipe/swipe_data/seqy.fasta "
   ]
  },
  {
   "cell_type": "markdown",
   "id": "d2002339",
   "metadata": {},
   "source": [
    "### Unfortunately, we were unable to replicate 3 of the software packages we used in our benchmarks on the Docker image: RV, SW#, and Aalign.\n",
    "\n",
    "#### 1. RV\n",
    "RV needs to be interleaved with the image's LLVM build, and we could not figure out a way to make it even run in the Docker image.\n",
    "\n",
    "#### 2. SW#\n",
    "SW# utilizes CUDA 11.0 and is not compatible with CUDA 12.0 and later. However, on a Linux or Mac-based system with CUDA 11.0, SW# can be built as follows:\n",
    "\n",
    "1. Clone the repo:\n",
    "    ```bash\n",
    "    git clone https://github.com/mkorpar/swsharp\n",
    "    ```\n",
    "\n",
    "2. Go to the project directory and remove the existing Makefile:\n",
    "    ```bash\n",
    "    cd swsharp/swsharp\n",
    "    rm -rf Makefile\n",
    "    ```\n",
    "\n",
    "3. Create a new Makefile using either nano or vim and copy and paste the following script:\n",
    "\n",
    "    ```makefile\n",
    "    CC = gcc\n",
    "    CP = g++\n",
    "    CU = nvcc\n",
    "    LD = nvcc\n",
    "    DX = doxygen\n",
    "\n",
    "    NAME = swsharp\n",
    "\n",
    "    OBJ_DIR = obj\n",
    "    SRC_DIR = src\n",
    "    DOC_DIR = doc\n",
    "    INC_DIR = ../include/$(NAME)\n",
    "    LIB_DIR = ../lib\n",
    "    EXC_DIR = ../bin\n",
    "    WIN_DIR = ../swsharpwin/$(NAME)\n",
    "\n",
    "    I_CMD = $(addprefix -I, $(SRC_DIR) )\n",
    "    L_CMD = $(addprefix -L, )\n",
    "\n",
    "    DEP_LIBS =\n",
    "\n",
    "    CC_FLAGS = $(I_CMD) -O3 -Wall -march=native\n",
    "    CP_FLAGS = $(CC_FLAGS)\n",
    "    LD_FLAGS = $(I_CMD) $(L_CMD) -lpthread -lstdc++\n",
    "\n",
    "    CU_FLAGS = $(I_CMD) -O3\n",
    "\n",
    "    API = $(addprefix $(SRC_DIR)/, align.h alignment.h chain.h constants.h \\\n",
    "            cpu_module.h cuda_utils.h database.h db_alignment.h evalue.h gpu_module.h \\\n",
    "            post_proc.h pre_proc.h reconstruct.h scorer.h swsharp.h thread.h threadpool.h)\n",
    "\n",
    "    SRC = $(shell find $(SRC_DIR) -type f \\( -iname \\*.cpp -o -iname \\*.c -o -iname \\*.cu \\))\n",
    "    HDR = $(shell find $(SRC_DIR) -type f \\( -iname \\*.h \\))\n",
    "    OBJ = $(subst $(SRC_DIR), $(OBJ_DIR), $(addsuffix .o, $(basename $(SRC))))\n",
    "    DEP = $(OBJ:.o=.d)\n",
    "    INC = $(subst $(SRC_DIR), $(INC_DIR), $(API))\n",
    "    LIB = $(LIB_DIR)/lib$(NAME).a\n",
    "    EXC = $(NAME)\n",
    "    BIN = $(EXC_DIR)/$(EXC)\n",
    "    DOC = $(DOC_DIR)/Doxyfile\n",
    "    WIN = $(subst $(SRC_DIR), $(WIN_DIR), $(HDR) $(SRC))\n",
    "\n",
    "    debug: CC_FLAGS := $(CC_FLAGS) -DDEBUG -DTIMERS\n",
    "    debug: CP_FLAGS := $(CP_FLAGS) -DDEBUG -DTIMERS\n",
    "    debug: CU_FLAGS := $(CU_FLAGS) -DDEBUG -DTIMERS --ptxas-options=-v\n",
    "\n",
    "    cpu: LD = $(CC)\n",
    "\n",
    "    all: $(OBJ) $(DEP_LIBS)\n",
    "    debug: all\n",
    "    cpu: all\n",
    "\n",
    "    install: lib include win\n",
    "\n",
    "    bin: $(BIN)\n",
    "\n",
    "    include: $(INC)\n",
    "\n",
    "    lib: $(LIB)\n",
    "\n",
    "    win: $(WIN)\n",
    "\n",
    "    $(EXC): $(OBJ) $(DEP_LIBS)\n",
    "            @echo [LD] $@\n",
    "            @mkdir -p $(dir $@)\n",
    "            @$(LD) $(OBJ) -o $@ $(LD_FLAGS)\n",
    "    $(OBJ_DIR)/%.o: $(SRC_DIR)/%.c\n",
    "            @echo [CC] $<\n",
    "            @mkdir -p $(dir $@)\n",
    "            @$(CC) $< -c -o $@ -MMD $(CC_FLAGS)\n",
    "    $(OBJ_DIR)/%.o: $(SRC_DIR)/%.cpp\n",
    "            @echo [CP] $<\n",
    "            @mkdir -p $(dir $@)\n",
    "            @$(CP) $< -c -o $@ -MMD $(CP_FLAGS)\n",
    "\n",
    "    $(OBJ_DIR)/%.o: $(SRC_DIR)/%.cu\n",
    "            @mkdir -p $(dir $@)\n",
    "    ifeq (,$(findstring cpu,$(MAKECMDGOALS)))\n",
    "            @echo [CU] $<\n",
    "            @$(CU) $< -M -o $(@:.o=.d) $(CU_FLAGS) --output-directory $(dir $@)\n",
    "            @$(CU) $< -c -o $@ $(CU_FLAGS)\n",
    "    else\n",
    "            @echo [CP] $<\n",
    "            @$(CP) -x c++ $< -c -o $@ -MMD $(CP_FLAGS)\n",
    "    endif\n",
    "\n",
    "    $(INC_DIR)/%.h: $(SRC_DIR)/%.h\n",
    "            @echo [CP] $@\n",
    "            @mkdir -p $(dir $@)\n",
    "            @cp $< $@\n",
    "            \n",
    "    $(LIB): $(OBJ)\n",
    "            @echo [AR] $@\n",
    "            @mkdir -p $(dir $@)\n",
    "            @ar rcs $(LIB) $(OBJ) 2> /dev/null\n",
    "\n",
    "    $(BIN): $(EXC)\n",
    "            @echo [CP] $@\n",
    "            @mkdir -p $(dir $@)\n",
    "            @cp $< $@\n",
    "\n",
    "    $(WIN_DIR)/%: $(SRC_DIR)/%\n",
    "            @echo [CP] $@\n",
    "            @mkdir -p $(dir $@)\n",
    "            @cp $< $@\n",
    "\n",
    "    docs:\n",
    "            @echo [DX] generating documentation\n",
    "            @$(DX) $(DOC)\n",
    "            \n",
    "    clean:\n",
    "            @echo [RM] cleaning\n",
    "            @rm -rf $(OBJ_DIR) $(EXC)\n",
    "\n",
    "    remove:\n",
    "            @echo [RM] removing\n",
    "            @rm -rf $(INC_DIR) $(LIB) $(BIN) $(EXC) $(WIN)\n",
    "\n",
    "    -include $(DEP)\n",
    "    ```\n",
    "\n",
    "4. Navigate back to the main swsharp folder and run:\n",
    "    ```bash\n",
    "    make\n",
    "    ```\n",
    "\n",
    "5. The executables will be in `./swsharp/bin`.\n",
    "\n",
    "6. A simple alignment test can be run by using:\n",
    "    ```bash\n",
    "    ./swsharp/bin/swsharpdb -i query.fasta -j target.fasta\n",
    "    ```\n",
    "\n",
    "#### 3. Aalign\n",
    "Aalign utilizes `icpc` (Intel's C++ compiler), which is not available on Ubuntu 22.04's Docker image. However, on a Linux or Mac-based system with CUDA 11.0, Aalign can be built as follows:\n",
    "\n",
    "1. Install the Intel `icpc` C++ compiler.\n",
    "2. Clone the repo:\n",
    "    ```bash\n",
    "    git clone https://github.com/vtsynergy/aalign\n",
    "    ```\n",
    "\n",
    "3. In `./aalign/ModularDesign`, run:\n",
    "    ```bash\n",
    "    make\n",
    "    ```\n",
    "\n",
    "4. You will have access to Smith-Waterman (different modes) and Needleman-Wunsch (different modes).\n"
   ]
  },
  {
   "cell_type": "code",
   "execution_count": null,
   "id": "afdb954c",
   "metadata": {},
   "outputs": [],
   "source": []
  }
 ],
 "metadata": {
  "kernelspec": {
   "display_name": "Python 3 (ipykernel)",
   "language": "python",
   "name": "python3"
  },
  "language_info": {
   "codemirror_mode": {
    "name": "ipython",
    "version": 3
   },
   "file_extension": ".py",
   "mimetype": "text/x-python",
   "name": "python",
   "nbconvert_exporter": "python",
   "pygments_lexer": "ipython3",
   "version": "3.10.5"
  }
 },
 "nbformat": 4,
 "nbformat_minor": 5
}
