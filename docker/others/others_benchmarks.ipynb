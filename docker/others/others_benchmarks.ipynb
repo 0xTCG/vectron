{
 "cells": [
  {
   "cell_type": "markdown",
   "id": "20a2c2fe",
   "metadata": {},
   "source": [
    "# Other State-of-the-Art Implementations:"
   ]
  },
  {
   "cell_type": "markdown",
   "id": "3355b3c8",
   "metadata": {},
   "source": [
    "The following modules will test the other state of the art implementations in the article in the order of their appearance for 4096 pairs of nucleotide sequences:"
   ]
  },
  {
   "cell_type": "markdown",
   "id": "ad25dd63",
   "metadata": {},
   "source": [
    "### SSW:"
   ]
  },
  {
   "cell_type": "code",
   "execution_count": 1,
   "id": "d2647e89",
   "metadata": {},
   "outputs": [
    {
     "name": "stdout",
     "output_type": "stream",
     "text": [
      "CPU time: 0.278962 seconds\n",
      "0.28user 0.00system 0:00.28elapsed 99%CPU (0avgtext+0avgdata 1044maxresident)k\n",
      "0inputs+1112outputs (0major+289minor)pagefaults 0swaps\n"
     ]
    }
   ],
   "source": [
    "! time /ssw/src/ssw_test /others/data/seqx.fasta /others/data/seqy.fasta >ssw_out.txt"
   ]
  },
  {
   "cell_type": "markdown",
   "id": "32e7c6c2",
   "metadata": {},
   "source": [
    "### Parasail:"
   ]
  },
  {
   "cell_type": "code",
   "execution_count": 2,
   "id": "614cbac9",
   "metadata": {},
   "outputs": [
    {
     "name": "stdout",
     "output_type": "stream",
     "text": [
      "10.07user 0.10system 0:10.30elapsed 98%CPU (0avgtext+0avgdata 202472maxresident)k\n",
      "0inputs+312outputs (0major+64384minor)pagefaults 0swaps\n"
     ]
    }
   ],
   "source": [
    "! time /root/parasail/build/parasail_aligner -f /others/data/seqx.fasta -q /others/data/seqy.fasta >parasail_out.txt"
   ]
  },
  {
   "cell_type": "markdown",
   "id": "d14f3f26",
   "metadata": {},
   "source": [
    "### SeqAn: \n",
    "\n",
    "Note that SeqAn was very difficult to work with external files. However the below bash command will test the package in equal settings for 48 pairs of sequences. **The run time for 4096 pairs of sequences can be extrapolated by multiplying the resulting runtime by 85.3**"
   ]
  },
  {
   "cell_type": "code",
   "execution_count": 3,
   "id": "b367b5b2",
   "metadata": {},
   "outputs": [
    {
     "name": "stdout",
     "output_type": "stream",
     "text": [
      "0.07user 0.00system 0:00.07elapsed 100%CPU (0avgtext+0avgdata 5876maxresident)k\n",
      "0inputs+24outputs (0major+1502minor)pagefaults 0swaps\n"
     ]
    }
   ],
   "source": [
    "! time /root/seqan/build/bin/test_align_simd_global_equal_length_avx2 >seqan_out.txt"
   ]
  },
  {
   "cell_type": "markdown",
   "id": "5e575c2a",
   "metadata": {},
   "source": [
    "### Codon (seq) inter_align:"
   ]
  },
  {
   "cell_type": "code",
   "execution_count": 4,
   "id": "1eb474c0",
   "metadata": {},
   "outputs": [],
   "source": [
    "! codon build -plugin /codon-seq/ seq_interalign.codon -release\n"
   ]
  },
  {
   "cell_type": "code",
   "execution_count": 5,
   "id": "0d3add1d",
   "metadata": {},
   "outputs": [
    {
     "name": "stdout",
     "output_type": "stream",
     "text": [
      "total took 0.419478s\n",
      "0.47user 1.72system 0:02.27elapsed 96%CPU (0avgtext+0avgdata 148212maxresident)k\n",
      "0inputs+48outputs (0major+9569minor)pagefaults 0swaps\n"
     ]
    }
   ],
   "source": [
    "! time ./seq_interalign >seq_interalign.txt"
   ]
  },
  {
   "cell_type": "markdown",
   "id": "b204d631",
   "metadata": {},
   "source": [
    "### ADEPT: \n",
    "\n",
    "ADEPT's test are unable to perform for arbitrary number of pairs with arbitrary lengths, and their DNA test suite of 3000 sequence pairs of length 150 was used to perform benchmarks, **the resulting runtime must be multiplied by 4.66** to get the equivalent of other runtime benchmarks."
   ]
  },
  {
   "cell_type": "code",
   "execution_count": 6,
   "id": "95111495",
   "metadata": {},
   "outputs": [
    {
     "name": "stdout",
     "output_type": "stream",
     "text": [
      "\n",
      "-----------------------\n",
      "       SIMPLE DNA      \n",
      "-----------------------\n",
      "\n",
      "STATUS: Launching driver\n",
      "\n",
      "\n",
      "STATUS: Writing results...\n",
      "correctness test passed\n",
      "0.05user 1.60system 0:01.78elapsed 92%CPU (0avgtext+0avgdata 217172maxresident)k\n",
      "0inputs+272outputs (0major+28355minor)pagefaults 0swaps\n"
     ]
    }
   ],
   "source": [
    "! time /root/ADEPT/build/examples/simple_sw/simple_sw /root/ADEPT/test-data/dna-query.fasta /root/ADEPT/test-data/dna-reference.fasta out.txt res.txt"
   ]
  },
  {
   "cell_type": "markdown",
   "id": "6b399d21",
   "metadata": {},
   "source": [
    "### SWIPE:"
   ]
  },
  {
   "cell_type": "code",
   "execution_count": 7,
   "id": "42a4e8cb",
   "metadata": {},
   "outputs": [
    {
     "name": "stdout",
     "output_type": "stream",
     "text": [
      "8.25user 0.08system 0:08.36elapsed 99%CPU (0avgtext+0avgdata 1576maxresident)k\n",
      "0inputs+19288outputs (0major+14435minor)pagefaults 0swaps\n"
     ]
    }
   ],
   "source": [
    "! time /root/swipe/swipe -d /swipe/swipe_data/seqx.fasta -i /swipe/swipe_data/seqy.fasta >swipe_out.txt"
   ]
  },
  {
   "cell_type": "markdown",
   "id": "c8c3306d",
   "metadata": {},
   "source": [
    "### Compiling RV scripts (equivalent to out C++ scripts with the loop annotation specific to RV)"
   ]
  },
  {
   "cell_type": "code",
   "execution_count": 9,
   "id": "9aead434",
   "metadata": {},
   "outputs": [],
   "source": [
    "! clang++-16 -fplugin=/root/libRV.so -mllvm -rv-loopvec -fno-unroll-loops /RV/cpp_sw_rv.cpp -o /RV/cpp_sw_rv\n",
    "! clang++-16 -fplugin=/root/libRV.so -mllvm -rv-loopvec -fno-unroll-loops /RV/cpp_nmw_rv.cpp -o /RV/cpp_nmw_rv\n",
    "! clang++-16 -fplugin=/root/libRV.so -mllvm -rv-loopvec -fno-unroll-loops /RV/cpp_mt_rv.cpp -o /RV/cpp_mt_rv\n",
    "! clang++-16 -fplugin=/root/libRV.so -mllvm -rv-loopvec -fno-unroll-loops /RV/cpp_mcp_rv.cpp -o /RV/cpp_mcp_rv\n",
    "! clang++-16 -fplugin=/root/libRV.so -mllvm -rv-loopvec -fno-unroll-loops /RV/cpp_lcs_rv.cpp -o /RV/cpp_lcs_rv\n",
    "! clang++-16 -fplugin=/root/libRV.so -mllvm -rv-loopvec -fno-unroll-loops /RV/cpp_LD_rv.cpp -o /RV/cpp_LD_rv\n",
    "! clang++-16 -fplugin=/root/libRV.so -mllvm -rv-loopvec -fno-unroll-loops /RV/cpp_hd_rv.cpp -o /RV/cpp_hd_rv"
   ]
  },
  {
   "cell_type": "markdown",
   "id": "6ee11743",
   "metadata": {},
   "source": [
    "Below prints the runtime of the C++ files using the RV vectorizer:"
   ]
  },
  {
   "cell_type": "code",
   "execution_count": 10,
   "id": "fa889d64",
   "metadata": {},
   "outputs": [
    {
     "name": "stdout",
     "output_type": "stream",
     "text": [
      "50.32user 12.34system 1:02.81elapsed 99%CPU (0avgtext+0avgdata 12866008maxresident)k\n",
      "0inputs+56outputs (0major+11024930minor)pagefaults 0swaps\n"
     ]
    }
   ],
   "source": [
    "! time /RV/cpp_sw_rv /vectron/docker/experiments_docker/data/cpp_small/seqy.txt /vectron/docker/experiments_docker/data/cpp_small/seqx.txt >rv_out.txt"
   ]
  },
  {
   "cell_type": "code",
   "execution_count": 11,
   "id": "705d96d7",
   "metadata": {},
   "outputs": [
    {
     "name": "stdout",
     "output_type": "stream",
     "text": [
      "54.96user 4.40system 0:59.51elapsed 99%CPU (0avgtext+0avgdata 6561732maxresident)k\n",
      "0inputs+48outputs (0major+4521900minor)pagefaults 0swaps\n"
     ]
    }
   ],
   "source": [
    "! time /RV/cpp_nmw_rv /vectron/docker/experiments_docker/data/cpp_small/seqy.txt /vectron/docker/experiments_docker/data/cpp_small/seqx.txt >rv_out.txt"
   ]
  },
  {
   "cell_type": "code",
   "execution_count": 12,
   "id": "d963fec0",
   "metadata": {},
   "outputs": [
    {
     "name": "stdout",
     "output_type": "stream",
     "text": [
      "41.70user 2.52system 0:44.33elapsed 99%CPU (0avgtext+0avgdata 2194824maxresident)k\n",
      "0inputs+48outputs (0major+1614247minor)pagefaults 0swaps\n"
     ]
    }
   ],
   "source": [
    "! time /RV/cpp_mt_rv /vectron/docker/experiments_docker/data/cpp_small/seqy.txt /vectron/docker/experiments_docker/data/cpp_small/seqx.txt >rv_out.txt"
   ]
  },
  {
   "cell_type": "code",
   "execution_count": 13,
   "id": "23f5087c",
   "metadata": {},
   "outputs": [
    {
     "name": "stdout",
     "output_type": "stream",
     "text": [
      "39.47user 1.42system 0:40.99elapsed 99%CPU (0avgtext+0avgdata 2194824maxresident)k\n",
      "0inputs+48outputs (0major+1478037minor)pagefaults 0swaps\n"
     ]
    }
   ],
   "source": [
    "! time /RV/cpp_mcp_rv /vectron/docker/experiments_docker/data/cpp_small/seqy.txt /vectron/docker/experiments_docker/data/cpp_small/seqx.txt >rv_out.txt"
   ]
  },
  {
   "cell_type": "code",
   "execution_count": 14,
   "id": "83f3c0ac",
   "metadata": {},
   "outputs": [
    {
     "name": "stdout",
     "output_type": "stream",
     "text": [
      "42.75user 1.64system 0:44.50elapsed 99%CPU (0avgtext+0avgdata 2190600maxresident)k\n",
      "0inputs+40outputs (0major+1477089minor)pagefaults 0swaps\n"
     ]
    }
   ],
   "source": [
    "! time /RV/cpp_lcs_rv /vectron/docker/experiments_docker/data/cpp_small/seqy.txt /vectron/docker/experiments_docker/data/cpp_small/seqx.txt >rv_out.txt"
   ]
  },
  {
   "cell_type": "code",
   "execution_count": 15,
   "id": "e112d3a4",
   "metadata": {},
   "outputs": [
    {
     "name": "stdout",
     "output_type": "stream",
     "text": [
      "42.55user 3.84system 0:46.51elapsed 99%CPU (0avgtext+0avgdata 2190600maxresident)k\n",
      "0inputs+48outputs (0major+1635327minor)pagefaults 0swaps\n"
     ]
    }
   ],
   "source": [
    "! time /RV/cpp_LD_rv /vectron/docker/experiments_docker/data/cpp_small/seqy.txt /vectron/docker/experiments_docker/data/cpp_small/seqx.txt >rv_out.txt"
   ]
  },
  {
   "cell_type": "code",
   "execution_count": 16,
   "id": "90bce2f9",
   "metadata": {},
   "outputs": [
    {
     "name": "stdout",
     "output_type": "stream",
     "text": [
      "25.80user 1.65system 0:27.52elapsed 99%CPU (0avgtext+0avgdata 2194824maxresident)k\n",
      "0inputs+40outputs (0major+1604872minor)pagefaults 0swaps\n"
     ]
    }
   ],
   "source": [
    "! time /RV/cpp_hd_rv /vectron/docker/experiments_docker/data/cpp_small/seqy.txt /vectron/docker/experiments_docker/data/cpp_small/seqx.txt >rv_out.txt"
   ]
  },
  {
   "cell_type": "markdown",
   "id": "7b57b1d1",
   "metadata": {},
   "source": [
    "### Sample Polyhedral Optimization:"
   ]
  },
  {
   "cell_type": "code",
   "execution_count": null,
   "id": "5b39459e",
   "metadata": {},
   "outputs": [],
   "source": [
    "! clang++ -mllvm --polly /vectron/docker/experiments_docker/source/cpp/smith_waterman.cpp"
   ]
  },
  {
   "cell_type": "code",
   "execution_count": null,
   "id": "0936f413",
   "metadata": {},
   "outputs": [],
   "source": [
    "! time /vectron/docker/experiments_docker/source/cpp/smith_waterman /vectron/docker/experiments_docker/data/cpp_small/seqy.txt /vectron/docker/experiments_docker/data/cpp_small/seqx.txt >poly_out.txt"
   ]
  },
  {
   "cell_type": "markdown",
   "id": "d2002339",
   "metadata": {},
   "source": [
    "## Others\n",
    "\n",
    "Unfortunately, we were unable to replicate 2 of the software packages we used in our benchmarks on the Docker image: SW#, and Aalign.\n",
    "\n",
    "#### 1. SW#\n",
    "SW# utilizes CUDA 11.0 and is not compatible with CUDA 12.0 and later. However, on a Linux or Mac-based system with CUDA 11.0, SW# can be built as follows:\n",
    "\n",
    "1. Clone the repo:\n",
    "    ```bash\n",
    "    git clone https://github.com/mkorpar/swsharp\n",
    "    ```\n",
    "\n",
    "2. Go to the project directory and remove the existing Makefile:\n",
    "    ```bash\n",
    "    cd swsharp/swsharp\n",
    "    rm -rf Makefile\n",
    "    ```\n",
    "\n",
    "3. Create a new Makefile using either nano or vim and copy and paste the following script:\n",
    "\n",
    "    ```makefile\n",
    "    CC = gcc\n",
    "    CP = g++\n",
    "    CU = nvcc\n",
    "    LD = nvcc\n",
    "    DX = doxygen\n",
    "\n",
    "    NAME = swsharp\n",
    "\n",
    "    OBJ_DIR = obj\n",
    "    SRC_DIR = src\n",
    "    DOC_DIR = doc\n",
    "    INC_DIR = ../include/$(NAME)\n",
    "    LIB_DIR = ../lib\n",
    "    EXC_DIR = ../bin\n",
    "    WIN_DIR = ../swsharpwin/$(NAME)\n",
    "\n",
    "    I_CMD = $(addprefix -I, $(SRC_DIR) )\n",
    "    L_CMD = $(addprefix -L, )\n",
    "\n",
    "    DEP_LIBS =\n",
    "\n",
    "    CC_FLAGS = $(I_CMD) -O3 -Wall -march=native\n",
    "    CP_FLAGS = $(CC_FLAGS)\n",
    "    LD_FLAGS = $(I_CMD) $(L_CMD) -lpthread -lstdc++\n",
    "\n",
    "    CU_FLAGS = $(I_CMD) -O3\n",
    "\n",
    "    API = $(addprefix $(SRC_DIR)/, align.h alignment.h chain.h constants.h \\\n",
    "            cpu_module.h cuda_utils.h database.h db_alignment.h evalue.h gpu_module.h \\\n",
    "            post_proc.h pre_proc.h reconstruct.h scorer.h swsharp.h thread.h threadpool.h)\n",
    "\n",
    "    SRC = $(shell find $(SRC_DIR) -type f \\( -iname \\*.cpp -o -iname \\*.c -o -iname \\*.cu \\))\n",
    "    HDR = $(shell find $(SRC_DIR) -type f \\( -iname \\*.h \\))\n",
    "    OBJ = $(subst $(SRC_DIR), $(OBJ_DIR), $(addsuffix .o, $(basename $(SRC))))\n",
    "    DEP = $(OBJ:.o=.d)\n",
    "    INC = $(subst $(SRC_DIR), $(INC_DIR), $(API))\n",
    "    LIB = $(LIB_DIR)/lib$(NAME).a\n",
    "    EXC = $(NAME)\n",
    "    BIN = $(EXC_DIR)/$(EXC)\n",
    "    DOC = $(DOC_DIR)/Doxyfile\n",
    "    WIN = $(subst $(SRC_DIR), $(WIN_DIR), $(HDR) $(SRC))\n",
    "\n",
    "    debug: CC_FLAGS := $(CC_FLAGS) -DDEBUG -DTIMERS\n",
    "    debug: CP_FLAGS := $(CP_FLAGS) -DDEBUG -DTIMERS\n",
    "    debug: CU_FLAGS := $(CU_FLAGS) -DDEBUG -DTIMERS --ptxas-options=-v\n",
    "\n",
    "    cpu: LD = $(CC)\n",
    "\n",
    "    all: $(OBJ) $(DEP_LIBS)\n",
    "    debug: all\n",
    "    cpu: all\n",
    "\n",
    "    install: lib include win\n",
    "\n",
    "    bin: $(BIN)\n",
    "\n",
    "    include: $(INC)\n",
    "\n",
    "    lib: $(LIB)\n",
    "\n",
    "    win: $(WIN)\n",
    "\n",
    "    $(EXC): $(OBJ) $(DEP_LIBS)\n",
    "            @echo [LD] $@\n",
    "            @mkdir -p $(dir $@)\n",
    "            @$(LD) $(OBJ) -o $@ $(LD_FLAGS)\n",
    "    $(OBJ_DIR)/%.o: $(SRC_DIR)/%.c\n",
    "            @echo [CC] $<\n",
    "            @mkdir -p $(dir $@)\n",
    "            @$(CC) $< -c -o $@ -MMD $(CC_FLAGS)\n",
    "    $(OBJ_DIR)/%.o: $(SRC_DIR)/%.cpp\n",
    "            @echo [CP] $<\n",
    "            @mkdir -p $(dir $@)\n",
    "            @$(CP) $< -c -o $@ -MMD $(CP_FLAGS)\n",
    "\n",
    "    $(OBJ_DIR)/%.o: $(SRC_DIR)/%.cu\n",
    "            @mkdir -p $(dir $@)\n",
    "    ifeq (,$(findstring cpu,$(MAKECMDGOALS)))\n",
    "            @echo [CU] $<\n",
    "            @$(CU) $< -M -o $(@:.o=.d) $(CU_FLAGS) --output-directory $(dir $@)\n",
    "            @$(CU) $< -c -o $@ $(CU_FLAGS)\n",
    "    else\n",
    "            @echo [CP] $<\n",
    "            @$(CP) -x c++ $< -c -o $@ -MMD $(CP_FLAGS)\n",
    "    endif\n",
    "\n",
    "    $(INC_DIR)/%.h: $(SRC_DIR)/%.h\n",
    "            @echo [CP] $@\n",
    "            @mkdir -p $(dir $@)\n",
    "            @cp $< $@\n",
    "            \n",
    "    $(LIB): $(OBJ)\n",
    "            @echo [AR] $@\n",
    "            @mkdir -p $(dir $@)\n",
    "            @ar rcs $(LIB) $(OBJ) 2> /dev/null\n",
    "\n",
    "    $(BIN): $(EXC)\n",
    "            @echo [CP] $@\n",
    "            @mkdir -p $(dir $@)\n",
    "            @cp $< $@\n",
    "\n",
    "    $(WIN_DIR)/%: $(SRC_DIR)/%\n",
    "            @echo [CP] $@\n",
    "            @mkdir -p $(dir $@)\n",
    "            @cp $< $@\n",
    "\n",
    "    docs:\n",
    "            @echo [DX] generating documentation\n",
    "            @$(DX) $(DOC)\n",
    "            \n",
    "    clean:\n",
    "            @echo [RM] cleaning\n",
    "            @rm -rf $(OBJ_DIR) $(EXC)\n",
    "\n",
    "    remove:\n",
    "            @echo [RM] removing\n",
    "            @rm -rf $(INC_DIR) $(LIB) $(BIN) $(EXC) $(WIN)\n",
    "\n",
    "    -include $(DEP)\n",
    "    ```\n",
    "\n",
    "4. Navigate back to the main swsharp folder and run:\n",
    "    ```bash\n",
    "    make\n",
    "    ```\n",
    "\n",
    "5. The executables will be in `./swsharp/bin`.\n",
    "\n",
    "6. A simple alignment test can be run by using:\n",
    "    ```bash\n",
    "    ./swsharp/bin/swsharpdb -i query.fasta -j target.fasta\n",
    "    ```\n",
    "\n",
    "#### 2. Aalign\n",
    "Aalign utilizes `icpc` (Intel's C++ compiler), which is not available on Ubuntu 22.04's Docker image. However, on a Linux or Mac-based system with CUDA 11.0, Aalign can be built as follows:\n",
    "\n",
    "1. Install the Intel `icpc` C++ compiler.\n",
    "2. Clone the repo:\n",
    "    ```bash\n",
    "    git clone https://github.com/vtsynergy/aalign\n",
    "    ```\n",
    "\n",
    "3. In `./aalign/ModularDesign`, run:\n",
    "    ```bash\n",
    "    make\n",
    "    ```\n",
    "\n",
    "4. You will have access to Smith-Waterman (different modes) and Needleman-Wunsch (different modes).\n"
   ]
  },
  {
   "cell_type": "code",
   "execution_count": null,
   "id": "7c6d8746",
   "metadata": {},
   "outputs": [],
   "source": []
  }
 ],
 "metadata": {
  "kernelspec": {
   "display_name": "Python 3 (ipykernel)",
   "language": "python",
   "name": "python3"
  },
  "language_info": {
   "codemirror_mode": {
    "name": "ipython",
    "version": 3
   },
   "file_extension": ".py",
   "mimetype": "text/x-python",
   "name": "python",
   "nbconvert_exporter": "python",
   "pygments_lexer": "ipython3",
   "version": "3.10.5"
  }
 },
 "nbformat": 4,
 "nbformat_minor": 5
}
