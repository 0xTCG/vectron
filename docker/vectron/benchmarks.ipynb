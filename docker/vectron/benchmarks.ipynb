{
 "cells": [
  {
   "cell_type": "markdown",
   "id": "a0ba4b16-15a8-43df-9688-2114ac15c418",
   "metadata": {},
   "source": [
    "# Vectron: Evaluation Artifact\n",
    "\n",
    "This notebook contains the main experiments from the Vectron paper. Comparisons with other state-of-the-art tools is located in `others/` directory.\n",
    "\n",
    "> Note: that some runtimes might slightly differ from the ones presented in the article due to using a containerized environment and due to the hardware differences. \n",
    "However, the speedup ratios between the experiments should be preserved.\n",
    "\n",
    "All inputs are located in `seqx.txt` and `seqy.txt` files. While Codon and Vectron programs read from these files directly, C++ and CUDA versions read a preprocessed versions of these files.\n",
    "The preprocessing is done during the Docker build process through `seq_modifier.py` script. Note that the preprocessed files contain the same sequences as in the original. Also note\n",
    "that we do not care about the time needed to load the sequences from the disk, therefore the initialization time is not measured for either version (Codon, Vectron or a C++)."
   ]
  },
  {
   "cell_type": "code",
   "execution_count": 1,
   "id": "05fe33b3-363b-4803-9f89-2b653b6773e6",
   "metadata": {},
   "outputs": [],
   "source": [
    "import subprocess\n",
    "import os\n",
    "from tabulate import tabulate"
   ]
  },
  {
   "cell_type": "code",
   "execution_count": 2,
   "id": "f1918670-0546-4f2b-8431-09bd33916eb4",
   "metadata": {},
   "outputs": [],
   "source": [
    "def compile(mode, src):\n",
    "    if mode == 'vectron':\n",
    "        result = subprocess.run(['codon', 'build', '-plugin', 'vectron', f'{src}', '-release'], capture_output=True, text=True)\n",
    "    elif mode == 'codon':\n",
    "        result = subprocess.run(['codon', 'build', f'{src}', '-release'], capture_output=True, text=True)\n",
    "    elif mode == 'cpp':\n",
    "        result = subprocess.run([\n",
    "            'clang++', '-O3', '-msse4.2', '-funroll-loops', '-mfpmath=sse', '-march=native',\n",
    "            f'{src}', '-o', f'{os.path.splitext(src)[0]}'\n",
    "        ], capture_output=True, text=True)\n",
    "        #print(result)\n",
    "    elif mode == 'cuda':\n",
    "        result = subprocess.run([\n",
    "            'nvcc', '-o', f'{os.path.splitext(src)[0]}', f'{src}'\n",
    "        ], capture_output=True, text=True)\n",
    "\n",
    "def exec(mode, src, ds_type):\n",
    "    seq_x = ''\n",
    "    seq_y = ''\n",
    "    if 'float' in ds_type:\n",
    "        if mode == 'cpp' or mode == 'cuda':\n",
    "            ds_type = 'cuda' + \"_\" + ds_type.split(\"_\", 1)[1]\n",
    "    else:\n",
    "        if mode == 'cpp' or mode == 'cuda':\n",
    "            ds_type = mode + \"_\" + ds_type.split(\"_\", 1)[1]\n",
    "    seq_x = f'/vectron/docker/experiments_docker/data/{ds_type}/seqx.txt'\n",
    "    seq_y = f'/vectron/docker/experiments_docker/data/{ds_type}/seqy.txt'\n",
    "    result = subprocess.run(f'{src} {seq_y} {seq_x} >{mode}_out.txt', capture_output=True, text=True, shell=True)\n",
    "    if mode == 'vectron' or mode == 'codon':\n",
    "        return result.stderr\n",
    "    else:\n",
    "        with open(f'{mode}_out.txt', 'r') as file:\n",
    "            lines = file.readlines()\n",
    "            return(lines[-1].strip())\n",
    "\n",
    "def batch_exec(mode, ds_type):\n",
    "    if 'float' in ds_type:\n",
    "        if mode == 'vectron':\n",
    "            source_p = mode + '_' + ds_type.split(\"_\", 1)[0]\n",
    "        else:\n",
    "            source_p = 'cuda'\n",
    "        algorithms = [\n",
    "            (\"Smith Waterman\", \"smith_waterman\"),\n",
    "        ]\n",
    "    else:\n",
    "        if mode == 'vectron':\n",
    "            source_p = mode + '_' + ds_type.split(\"_\", 1)[0]\n",
    "        else:\n",
    "            source_p = mode\n",
    "        algorithms = [\n",
    "            (\"Levenshtein Distance\", \"levenshtein_distance\"),\n",
    "            (\"Longest Common Subsequence\", \"lcs\"),\n",
    "            (\"Hamming Distance\", \"hamming_distance\"),\n",
    "            (\"Manhattan Tourist\", \"manhattan_tourist\"),\n",
    "            (\"Minimum Cost Path\", \"min_cost_path\"),\n",
    "            (\"Needleman Wunsch\", \"needleman_wunsch\"),\n",
    "            (\"Smith Waterman\", \"smith_waterman\"),\n",
    "        ]\n",
    "    results = []\n",
    "\n",
    "\n",
    "    headers = [f\"{mode}\", \"Execution Time\"]\n",
    "\n",
    "    for name, exec_name in algorithms:\n",
    "        if mode == \"cuda\":\n",
    "            exec_path = f'/vectron/docker/experiments_docker/source/{source_p}/{exec_name}_cuda'\n",
    "        else:\n",
    "            exec_path = f'/vectron/docker/experiments_docker/source/{source_p}/{exec_name}'\n",
    "\n",
    "        result = exec(mode, exec_path, ds_type)\n",
    "        results.append((name, result))\n",
    "    print(tabulate(results, headers=headers, tablefmt=\"pretty\"))"
   ]
  },
  {
   "cell_type": "markdown",
   "id": "8293e8a9-d550-4861-876a-c56a68963ae1",
   "metadata": {},
   "source": [
    "The following module will compile vectron, codon and C++ benchmarks on CPU in integer mode.\n",
    "The path to source codes for each script can be found in its compile command."
   ]
  },
  {
   "cell_type": "code",
   "execution_count": 3,
   "id": "f10924f1-054e-4453-8d08-78fb8b297118",
   "metadata": {},
   "outputs": [],
   "source": [
    "## COMPILING VECTRON EXPERIMENTS:\n",
    "compile('vectron', '/vectron/docker/experiments_docker/source/vectron_int/smith_waterman.codon')\n",
    "compile('vectron', '/vectron/docker/experiments_docker/source/vectron_int/needleman_wunsch.codon')\n",
    "compile('vectron', '/vectron/docker/experiments_docker/source/vectron_int/levenshtein_distance.codon')\n",
    "compile('vectron', '/vectron/docker/experiments_docker/source/vectron_int/lcs.codon')\n",
    "compile('vectron', '/vectron/docker/experiments_docker/source/vectron_int/hamming_distance.codon')\n",
    "compile('vectron', '/vectron/docker/experiments_docker/source/vectron_int/manhattan_tourist.codon')\n",
    "compile('vectron', '/vectron/docker/experiments_docker/source/vectron_int/min_cost_path.codon')\n",
    "\n",
    "## COMPILING codon EXPERIMENTS:\n",
    "compile('codon', '/vectron/docker/experiments_docker/source/codon/smith_waterman.codon')\n",
    "compile('codon', '/vectron/docker/experiments_docker/source/codon/needleman_wunsch.codon')\n",
    "compile('codon', '/vectron/docker/experiments_docker/source/codon/levenshtein_distance.codon')\n",
    "compile('codon', '/vectron/docker/experiments_docker/source/codon/lcs.codon')\n",
    "compile('codon', '/vectron/docker/experiments_docker/source/codon/hamming_distance.codon')\n",
    "compile('codon', '/vectron/docker/experiments_docker/source/codon/manhattan_tourist.codon')\n",
    "compile('codon', '/vectron/docker/experiments_docker/source/codon/min_cost_path.codon')\n",
    "\n",
    "## COMPILING C++ EXPERIMENTS:\n",
    "compile('cpp', '/vectron/docker/experiments_docker/source/cpp/smith_waterman.cpp')\n",
    "compile('cpp', '/vectron/docker/experiments_docker/source/cpp/needleman_wunsch.cpp')\n",
    "compile('cpp', '/vectron/docker/experiments_docker/source/cpp/levenshtein_distance.cpp')\n",
    "compile('cpp', '/vectron/docker/experiments_docker/source/cpp/lcs.cpp')\n",
    "compile('cpp', '/vectron/docker/experiments_docker/source/cpp/hamming_distance.cpp')\n",
    "compile('cpp', '/vectron/docker/experiments_docker/source/cpp/manhattan_tourist.cpp')\n",
    "compile('cpp', '/vectron/docker/experiments_docker/source/cpp/min_cost_path.cpp')"
   ]
  },
  {
   "cell_type": "markdown",
   "id": "ceeab3f4",
   "metadata": {},
   "source": [
    "## Table 3 (CPU experiments)"
   ]
  },
  {
   "cell_type": "markdown",
   "id": "61fe3d72",
   "metadata": {},
   "source": [
    "The following module will execute vectron, codon and C++ respectively, and benchmark their runtimes for the small dataset (4096 sequence pairs)"
   ]
  },
  {
   "cell_type": "code",
   "execution_count": 4,
   "id": "068949c5-51e0-4aba-b1d4-8fde6a81b044",
   "metadata": {},
   "outputs": [
    {
     "name": "stdout",
     "output_type": "stream",
     "text": [
      "+----------------------------+-------------------------+\n",
      "|          vectron           |     Execution Time      |\n",
      "+----------------------------+-------------------------+\n",
      "|    Levenshtein Distance    | Total:  took 0.398445s  |\n",
      "| Longest Common Subsequence |  Total:  took 0.37403s  |\n",
      "|      Hamming Distance      | Total:  took 0.0854971s |\n",
      "|     Manhattan Tourist      | Total:  took 0.510745s  |\n",
      "|     Minimum Cost Path      | Total:  took 0.758103s  |\n",
      "|      Needleman Wunsch      | Total:  took 0.500773s  |\n",
      "|       Smith Waterman       | Total:  took 0.269599s  |\n",
      "+----------------------------+-------------------------+\n",
      "+----------------------------+-----------------------+\n",
      "|           codon            |    Execution Time     |\n",
      "+----------------------------+-----------------------+\n",
      "|    Levenshtein Distance    | Total:  took 8.0801s  |\n",
      "| Longest Common Subsequence | Total:  took 9.78918s |\n",
      "|      Hamming Distance      | Total:  took 8.2862s  |\n",
      "|     Manhattan Tourist      | Total:  took 9.93125s |\n",
      "|     Minimum Cost Path      | Total:  took 11.0169s |\n",
      "|      Needleman Wunsch      | Total:  took 10.0315s |\n",
      "|       Smith Waterman       | Total:  took 17.8195s |\n",
      "+----------------------------+-----------------------+\n",
      "+----------------------------+----------------+\n",
      "|            cpp             | Execution Time |\n",
      "+----------------------------+----------------+\n",
      "|    Levenshtein Distance    |      8.42      |\n",
      "| Longest Common Subsequence |      6.09      |\n",
      "|      Hamming Distance      |      5.93      |\n",
      "|     Manhattan Tourist      |      4.32      |\n",
      "|     Minimum Cost Path      |      7.73      |\n",
      "|      Needleman Wunsch      |     14.98      |\n",
      "|       Smith Waterman       |     21.20      |\n",
      "+----------------------------+----------------+\n"
     ]
    }
   ],
   "source": [
    "batch_exec('vectron', 'int_small')\n",
    "batch_exec('codon', 'int_small')\n",
    "batch_exec('cpp', 'int_small')"
   ]
  },
  {
   "cell_type": "markdown",
   "id": "afd01ab3",
   "metadata": {},
   "source": [
    "The following module will execute vectron, codon and C++ respectively, and benchmark their runtimes for the medium dataset (262,144 sequence pairs)"
   ]
  },
  {
   "cell_type": "code",
   "execution_count": 5,
   "id": "1f81b0ca-c2a3-4dd7-a759-c0554b4f6f94",
   "metadata": {},
   "outputs": [
    {
     "name": "stdout",
     "output_type": "stream",
     "text": [
      "+----------------------------+-----------------------+\n",
      "|          vectron           |    Execution Time     |\n",
      "+----------------------------+-----------------------+\n",
      "|    Levenshtein Distance    | Total:  took 24.1062s |\n",
      "| Longest Common Subsequence | Total:  took 22.8324s |\n",
      "|      Hamming Distance      | Total:  took 1.92024s |\n",
      "|     Manhattan Tourist      | Total:  took 32.4822s |\n",
      "|     Minimum Cost Path      | Total:  took 47.4777s |\n",
      "|      Needleman Wunsch      | Total:  took 30.6931s |\n",
      "|       Smith Waterman       | Total:  took 18.3113s |\n",
      "+----------------------------+-----------------------+\n",
      "+----------------------------+-----------------------+\n",
      "|           codon            |    Execution Time     |\n",
      "+----------------------------+-----------------------+\n",
      "|    Levenshtein Distance    | Total:  took 521.671s |\n",
      "| Longest Common Subsequence | Total:  took 604.978s |\n",
      "|      Hamming Distance      | Total:  took 518.549s |\n",
      "|     Manhattan Tourist      |  Total:  took 637.3s  |\n",
      "|     Minimum Cost Path      | Total:  took 658.678s |\n",
      "|      Needleman Wunsch      | Total:  took 651.821s |\n",
      "|       Smith Waterman       | Total:  took 1147.98s |\n",
      "+----------------------------+-----------------------+\n",
      "+----------------------------+----------------+\n",
      "|            cpp             | Execution Time |\n",
      "+----------------------------+----------------+\n",
      "|    Levenshtein Distance    |     461.63     |\n",
      "| Longest Common Subsequence |     439.84     |\n",
      "|      Hamming Distance      |     326.37     |\n",
      "|     Manhattan Tourist      |     300.53     |\n",
      "|     Minimum Cost Path      |     485.97     |\n",
      "|      Needleman Wunsch      |    1017.90     |\n",
      "|       Smith Waterman       |    1291.24     |\n",
      "+----------------------------+----------------+\n"
     ]
    }
   ],
   "source": [
    "batch_exec('vectron', 'int_medium')\n",
    "batch_exec('codon', 'int_medium')\n",
    "batch_exec('cpp', 'int_medium')"
   ]
  },
  {
   "cell_type": "markdown",
   "id": "7777c79a",
   "metadata": {},
   "source": [
    "The following modules will execute vectron, codon and C++ respectively, and benchmark their runtimes for the large dataset (4,194,304 sequence pairs)"
   ]
  },
  {
   "cell_type": "code",
   "execution_count": 6,
   "id": "00a5badb-feb7-468c-bae8-49d47c083ed9",
   "metadata": {},
   "outputs": [
    {
     "name": "stdout",
     "output_type": "stream",
     "text": [
      "+----------------------------+-----------------------+\n",
      "|          vectron           |    Execution Time     |\n",
      "+----------------------------+-----------------------+\n",
      "|    Levenshtein Distance    | Total:  took 351.592s |\n",
      "| Longest Common Subsequence | Total:  took 350.358s |\n",
      "|      Hamming Distance      | Total:  took 28.1443s |\n",
      "|     Manhattan Tourist      | Total:  took 502.26s  |\n",
      "|     Minimum Cost Path      | Total:  took 734.145s |\n",
      "|      Needleman Wunsch      | Total:  took 457.519s |\n",
      "|       Smith Waterman       | Total:  took 312.49s  |\n",
      "+----------------------------+-----------------------+\n"
     ]
    }
   ],
   "source": [
    "batch_exec('vectron', 'int_large')"
   ]
  },
  {
   "cell_type": "code",
   "execution_count": 7,
   "id": "26b10a9b-9998-467c-a173-069c3543c2e5",
   "metadata": {},
   "outputs": [
    {
     "name": "stdout",
     "output_type": "stream",
     "text": [
      "+----------------------------+-----------------------+\n",
      "|           codon            |    Execution Time     |\n",
      "+----------------------------+-----------------------+\n",
      "|    Levenshtein Distance    | Total:  took 6018.88s |\n",
      "| Longest Common Subsequence | Total:  took 9559.43s |\n",
      "|      Hamming Distance      | Total:  took 5246.37s |\n",
      "|     Manhattan Tourist      | Total:  took 9704.18s |\n",
      "|     Minimum Cost Path      | Total:  took 10914.7s |\n",
      "|      Needleman Wunsch      | Total:  took 10719.8s |\n",
      "|       Smith Waterman       | Total:  took 22339.4s |\n",
      "+----------------------------+-----------------------+\n"
     ]
    }
   ],
   "source": [
    "batch_exec('codon', 'int_large')"
   ]
  },
  {
   "cell_type": "code",
   "execution_count": 8,
   "id": "084bd2c2-158d-4164-bf84-21dc64ff535d",
   "metadata": {},
   "outputs": [
    {
     "name": "stdout",
     "output_type": "stream",
     "text": [
      "+----------------------------+----------------+\n",
      "|            cpp             | Execution Time |\n",
      "+----------------------------+----------------+\n",
      "|    Levenshtein Distance    |    7263.77     |\n",
      "| Longest Common Subsequence |    6607.10     |\n",
      "|      Hamming Distance      |    4995.78     |\n",
      "|     Manhattan Tourist      |    4803.06     |\n",
      "|     Minimum Cost Path      |    7144.32     |\n",
      "|      Needleman Wunsch      |    12748.49    |\n",
      "|       Smith Waterman       |    18966.15    |\n",
      "+----------------------------+----------------+\n"
     ]
    }
   ],
   "source": [
    "batch_exec('cpp', 'int_large')"
   ]
  },
  {
   "cell_type": "markdown",
   "id": "1880809d",
   "metadata": {},
   "source": [
    "## Table 6 (GPU experiments)"
   ]
  },
  {
   "cell_type": "markdown",
   "id": "220c0817",
   "metadata": {},
   "source": [
    "The following module will compile GPU versions (floating-point mode):"
   ]
  },
  {
   "cell_type": "code",
   "execution_count": 9,
   "id": "ef0aa12a",
   "metadata": {},
   "outputs": [],
   "source": [
    "compile('vectron', '/vectron/docker/experiments_docker/source/vectron_float/smith_waterman.codon')\n",
    "compile('cuda', '/vectron/docker/experiments_docker/source/cuda/smith_waterman_cuda.cu')\n",
    "compile('cpp', '/vectron/docker/experiments_docker/source/cuda/smith_waterman.cpp')"
   ]
  },
  {
   "cell_type": "markdown",
   "id": "d270a44a",
   "metadata": {},
   "source": [
    "The following cell will execute Vectron, Codon and C++ versions, and benchmark their runtimes on the small GPU dataset (256 sequence pairs):"
   ]
  },
  {
   "cell_type": "code",
   "execution_count": 10,
   "id": "15fbd2cd",
   "metadata": {},
   "outputs": [
    {
     "name": "stdout",
     "output_type": "stream",
     "text": [
      "+----------------+------------------------+\n",
      "|    vectron     |     Execution Time     |\n",
      "+----------------+------------------------+\n",
      "| Smith Waterman | Total:  took 0.414509s |\n",
      "+----------------+------------------------+\n",
      "+----------------+----------------+\n",
      "|      cuda      | Execution Time |\n",
      "+----------------+----------------+\n",
      "| Smith Waterman |      2.06      |\n",
      "+----------------+----------------+\n",
      "+----------------+----------------+\n",
      "|      cpp       | Execution Time |\n",
      "+----------------+----------------+\n",
      "| Smith Waterman |      0.25      |\n",
      "+----------------+----------------+\n"
     ]
    }
   ],
   "source": [
    "batch_exec('vectron', 'float_small')\n",
    "batch_exec('cuda', 'float_small')\n",
    "batch_exec('cpp', 'float_small')"
   ]
  },
  {
   "cell_type": "markdown",
   "id": "ea895c7d",
   "metadata": {},
   "source": [
    "Medium GPU dataset (1024 sequence pairs) benchmark:"
   ]
  },
  {
   "cell_type": "code",
   "execution_count": 11,
   "id": "6fad4340",
   "metadata": {},
   "outputs": [
    {
     "name": "stdout",
     "output_type": "stream",
     "text": [
      "+----------------+-----------------------+\n",
      "|    vectron     |    Execution Time     |\n",
      "+----------------+-----------------------+\n",
      "| Smith Waterman | Total:  took 1.42555s |\n",
      "+----------------+-----------------------+\n",
      "+----------------+----------------+\n",
      "|      cuda      | Execution Time |\n",
      "+----------------+----------------+\n",
      "| Smith Waterman |      1.69      |\n",
      "+----------------+----------------+\n",
      "+----------------+----------------+\n",
      "|      cpp       | Execution Time |\n",
      "+----------------+----------------+\n",
      "| Smith Waterman |      1.30      |\n",
      "+----------------+----------------+\n"
     ]
    }
   ],
   "source": [
    "batch_exec('vectron', 'float_medium')\n",
    "batch_exec('cuda', 'float_medium')\n",
    "batch_exec('cpp', 'float_medium')"
   ]
  },
  {
   "cell_type": "markdown",
   "id": "c1f1438f",
   "metadata": {},
   "source": [
    "Large GPU dataset (4096 sequence pairs) benchmark:"
   ]
  },
  {
   "cell_type": "code",
   "execution_count": 12,
   "id": "4a182b00",
   "metadata": {},
   "outputs": [
    {
     "name": "stdout",
     "output_type": "stream",
     "text": [
      "+----------------+----------------------+\n",
      "|    vectron     |    Execution Time    |\n",
      "+----------------+----------------------+\n",
      "| Smith Waterman | Total:  took 5.3616s |\n",
      "+----------------+----------------------+\n",
      "+----------------+----------------+\n",
      "|      cuda      | Execution Time |\n",
      "+----------------+----------------+\n",
      "| Smith Waterman |      2.20      |\n",
      "+----------------+----------------+\n",
      "+----------------+----------------+\n",
      "|      cpp       | Execution Time |\n",
      "+----------------+----------------+\n",
      "| Smith Waterman |      8.67      |\n",
      "+----------------+----------------+\n"
     ]
    }
   ],
   "source": [
    "batch_exec('vectron', 'float_large')\n",
    "batch_exec('cuda', 'float_large')\n",
    "batch_exec('cpp', 'float_large')"
   ]
  },
  {
   "cell_type": "markdown",
   "id": "7766f15b-34ba-4913-98e7-14985c39ab52",
   "metadata": {},
   "source": [
    "## Scheduling Ablation Study (end of Section 5.2)\n",
    "\n",
    "The following cells benchmark the speedup of vectorization alone for Vectron and C++ (i.e., the impact of scheduling and loop order). \n",
    "\n",
    "A purely vectorized implementation with a naive loop order was used for the same Smith-Waterman experiment in Vectron. \n",
    "For C++, the loops were manually inverted to achieve the same goal (the baseline version had the ). These benchmarks are run on the small integer dataset (4096 sequence pairs)."
   ]
  },
  {
   "cell_type": "code",
   "execution_count": 13,
   "id": "05cdb4e3-b398-414a-ac55-94daf7c4cc4a",
   "metadata": {},
   "outputs": [],
   "source": [
    "! codon build -plugin /codon-seq/ -plugin /vectron/ smith_waterman_inverted.codon -release"
   ]
  },
  {
   "cell_type": "code",
   "execution_count": 15,
   "id": "fb48e108-c342-4ad8-b450-3825ab747f66",
   "metadata": {},
   "outputs": [
    {
     "data": {
      "text/plain": [
       "'Total:  took 0.303345s\\n'"
      ]
     },
     "execution_count": 15,
     "metadata": {},
     "output_type": "execute_result"
    }
   ],
   "source": [
    "exec('vectron', './smith_waterman_inverted', 'int_small')  # vs. 0.269599s with better scheduling"
   ]
  },
  {
   "cell_type": "markdown",
   "id": "9b47791b",
   "metadata": {},
   "source": [
    "This gives ~12% slowdown due to naive scheduling."
   ]
  }
 ],
 "metadata": {
  "kernelspec": {
   "display_name": "Python 3 (ipykernel)",
   "language": "python",
   "name": "python3"
  },
  "language_info": {
   "codemirror_mode": {
    "name": "ipython",
    "version": 3
   },
   "file_extension": ".py",
   "mimetype": "text/x-python",
   "name": "python",
   "nbconvert_exporter": "python",
   "pygments_lexer": "ipython3",
   "version": "3.10.12"
  }
 },
 "nbformat": 4,
 "nbformat_minor": 5
}
