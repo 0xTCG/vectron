{
 "cells": [
  {
   "cell_type": "markdown",
   "id": "a0ba4b16-15a8-43df-9688-2114ac15c418",
   "metadata": {},
   "source": [
    "# Vectron Benchmark\n",
    "This notebook will go over all of vectron's tests presented in the article. Note that some runtimes might differ from the ones presented in the article due to using a virtual container and the difference between the hardware configuratuons of the systems the simulation is run on. However, if the speedups are compared, the same results will be achieved.\n",
    "\n",
    "Also note that the input sequences for codon, vectron, C++ and cuda (seqx.txt and seqy.txt) all have the same identical sequences, but due to the fact that C++ and cuda handle pairs of sequences better, we prepared the same sequences fed to codon and vectron ready to be paired and fed them to C++ and cuda. This preparation takes place in the build process of the vectron Dockerfile by running seq_modifier.python."
   ]
  },
  {
   "cell_type": "code",
   "execution_count": 1,
   "id": "05fe33b3-363b-4803-9f89-2b653b6773e6",
   "metadata": {},
   "outputs": [
    {
     "data": {
      "text/plain": [
       "0"
      ]
     },
     "execution_count": 1,
     "metadata": {},
     "output_type": "execute_result"
    }
   ],
   "source": [
    "import subprocess\n",
    "import os\n",
    "from tabulate import tabulate\n",
    "os.system(\"codon build /vectron/docker/experiments_docker/source/vectron.codon\")"
   ]
  },
  {
   "cell_type": "code",
   "execution_count": 19,
   "id": "f1918670-0546-4f2b-8431-09bd33916eb4",
   "metadata": {},
   "outputs": [],
   "source": [
    "def compile(mode, src, vectron_path = ''):\n",
    "    if mode == 'vectron':\n",
    "        result = subprocess.run([vectron_path, '/codon-seq', '/vectron', f'{src}'], capture_output=True, text=True)\n",
    "    elif mode == 'codon':\n",
    "        result = subprocess.run(['codon', 'build', '-plugin', '/codon-seq', f'{src}', '-release'], capture_output=True, text=True)\n",
    "    elif mode == 'cpp':             \n",
    "        result = subprocess.run([\n",
    "            'clang++', '-O3', '-msse4.2', '-funroll-loops', '-mfpmath=sse', '-march=native',\n",
    "            f'{src}', '-o', f'{os.path.splitext(src)[0]}'\n",
    "        ], capture_output=True, text=True)\n",
    "        #print(result)     \n",
    "    elif mode == 'cuda':\n",
    "        result = subprocess.run([\n",
    "            'nvcc', '-o', f'{os.path.splitext(src)[0]}', f'{src}'\n",
    "        ], capture_output=True, text=True)        \n",
    "\n",
    "def exec(mode, src, ds_type):\n",
    "    seq_x = ''\n",
    "    seq_y = ''\n",
    "    if 'float' in ds_type:\n",
    "        if mode == 'cpp' or mode == 'cuda':\n",
    "            ds_type = 'cuda' + \"_\" + ds_type.split(\"_\", 1)[1]\n",
    "    else:\n",
    "        if mode == 'cpp' or mode == 'cuda':\n",
    "            ds_type = mode + \"_\" + ds_type.split(\"_\", 1)[1]        \n",
    "    seq_x = f'/vectron/docker/experiments_docker/data/{ds_type}/seqx.txt'\n",
    "    seq_y = f'/vectron/docker/experiments_docker/data/{ds_type}/seqy.txt'       \n",
    "    result = subprocess.run(f'{src} {seq_y} {seq_x} >{mode}_out.txt', capture_output=True, text=True, shell=True)\n",
    "    if mode == 'vectron' or mode == 'codon':\n",
    "        return result.stderr\n",
    "    else:\n",
    "        with open(f'{mode}_out.txt', 'r') as file:\n",
    "            lines = file.readlines()\n",
    "            return(lines[-1].strip())\n",
    "        \n",
    "def batch_exec(mode, ds_type):\n",
    "    if 'float' in ds_type:        \n",
    "        if mode == 'vectron':\n",
    "            source_p = mode + '_' + ds_type.split(\"_\", 1)[0]\n",
    "        else:\n",
    "            source_p = 'cuda'        \n",
    "        algorithms = [\n",
    "            (\"Smith Waterman\", \"smith_waterman\"),\n",
    "        ]            \n",
    "    else:\n",
    "        if mode == 'vectron':\n",
    "            source_p = mode + '_' + ds_type.split(\"_\", 1)[0]\n",
    "        else:\n",
    "            source_p = mode        \n",
    "        algorithms = [\n",
    "            (\"Levenshtein Distance\", \"levenshtein_distance\"),\n",
    "            (\"Longest Common Subsequence\", \"lcs\"),\n",
    "            (\"Hamming Distance\", \"hamming_distance\"),\n",
    "            (\"Manhattan Tourist\", \"manhattan_tourist\"),\n",
    "            (\"Minimum Cost Path\", \"min_cost_path\"),\n",
    "            (\"Needleman Wunsch\", \"needleman_wunsch\"),\n",
    "            (\"Smith Waterman\", \"smith_waterman\"),\n",
    "        ]    \n",
    "    results = []\n",
    "\n",
    "\n",
    "    headers = [f\"{mode}\", \"Execution Time\"]\n",
    "    \n",
    "    for name, exec_name in algorithms:\n",
    "        if mode == \"cuda\":\n",
    "            exec_path = f'/vectron/docker/experiments_docker/source/{source_p}/{exec_name}_cuda'\n",
    "        else:\n",
    "            exec_path = f'/vectron/docker/experiments_docker/source/{source_p}/{exec_name}'\n",
    "                \n",
    "        result = exec(mode, exec_path, ds_type)        \n",
    "        results.append((name, result))\n",
    "    print(tabulate(results, headers=headers, tablefmt=\"pretty\"))"
   ]
  },
  {
   "cell_type": "markdown",
   "id": "8293e8a9-d550-4861-876a-c56a68963ae1",
   "metadata": {},
   "source": [
    "The following module will compile vectron, codon and C++ benchmarks on CPU in integer mode.\n",
    "The path to source codes for each script can be found in its compile command."
   ]
  },
  {
   "cell_type": "code",
   "execution_count": 3,
   "id": "f10924f1-054e-4453-8d08-78fb8b297118",
   "metadata": {},
   "outputs": [],
   "source": [
    "## COMPILING VECTRON EXPERIMENTS:\n",
    "compile('vectron', '/vectron/docker/experiments_docker/source/vectron_int/smith_waterman.codon', '/vectron/docker/experiments_docker/source/vectron')\n",
    "compile('vectron', '/vectron/docker/experiments_docker/source/vectron_int/needleman_wunsch.codon', '/vectron/docker/experiments_docker/source/vectron')\n",
    "compile('vectron', '/vectron/docker/experiments_docker/source/vectron_int/levenshtein_distance.codon', '/vectron/docker/experiments_docker/source/vectron')\n",
    "compile('vectron', '/vectron/docker/experiments_docker/source/vectron_int/lcs.codon', '/vectron/docker/experiments_docker/source/vectron')\n",
    "compile('vectron', '/vectron/docker/experiments_docker/source/vectron_int/hamming_distance.codon', '/vectron/docker/experiments_docker/source/vectron')\n",
    "compile('vectron', '/vectron/docker/experiments_docker/source/vectron_int/manhattan_tourist.codon', '/vectron/docker/experiments_docker/source/vectron')\n",
    "compile('vectron', '/vectron/docker/experiments_docker/source/vectron_int/min_cost_path.codon', '/vectron/docker/experiments_docker/source/vectron')\n",
    "\n",
    "## COMPILING codon EXPERIMENTS:\n",
    "compile('codon', '/vectron/docker/experiments_docker/source/codon/smith_waterman.codon')\n",
    "compile('codon', '/vectron/docker/experiments_docker/source/codon/needleman_wunsch.codon')\n",
    "compile('codon', '/vectron/docker/experiments_docker/source/codon/levenshtein_distance.codon')\n",
    "compile('codon', '/vectron/docker/experiments_docker/source/codon/lcs.codon')\n",
    "compile('codon', '/vectron/docker/experiments_docker/source/codon/hamming_distance.codon')\n",
    "compile('codon', '/vectron/docker/experiments_docker/source/codon/manhattan_tourist.codon')\n",
    "compile('codon', '/vectron/docker/experiments_docker/source/codon/min_cost_path.codon')\n",
    "\n",
    "## COMPILING C++ EXPERIMENTS:\n",
    "compile('cpp', '/vectron/docker/experiments_docker/source/cpp/smith_waterman.cpp')\n",
    "compile('cpp', '/vectron/docker/experiments_docker/source/cpp/needleman_wunsch.cpp')\n",
    "compile('cpp', '/vectron/docker/experiments_docker/source/cpp/levenshtein_distance.cpp')\n",
    "compile('cpp', '/vectron/docker/experiments_docker/source/cpp/lcs.cpp')\n",
    "compile('cpp', '/vectron/docker/experiments_docker/source/cpp/hamming_distance.cpp')\n",
    "compile('cpp', '/vectron/docker/experiments_docker/source/cpp/manhattan_tourist.cpp')\n",
    "compile('cpp', '/vectron/docker/experiments_docker/source/cpp/min_cost_path.cpp')"
   ]
  },
  {
   "cell_type": "markdown",
   "id": "61fe3d72",
   "metadata": {},
   "source": [
    "The following module will execute vectron, codon and C++ respectively, and benchmark their runtimes for the small dataset (4096 sequence pairs)"
   ]
  },
  {
   "cell_type": "code",
   "execution_count": 4,
   "id": "068949c5-51e0-4aba-b1d4-8fde6a81b044",
   "metadata": {},
   "outputs": [
    {
     "name": "stdout",
     "output_type": "stream",
     "text": [
      "+----------------------------+-------------------------+\n",
      "|          vectron           |     Execution Time      |\n",
      "+----------------------------+-------------------------+\n",
      "|    Levenshtein Distance    | Total:  took 0.398445s  |\n",
      "| Longest Common Subsequence |  Total:  took 0.37403s  |\n",
      "|      Hamming Distance      | Total:  took 0.0854971s |\n",
      "|     Manhattan Tourist      | Total:  took 0.510745s  |\n",
      "|     Minimum Cost Path      | Total:  took 0.758103s  |\n",
      "|      Needleman Wunsch      | Total:  took 0.500773s  |\n",
      "|       Smith Waterman       | Total:  took 0.269599s  |\n",
      "+----------------------------+-------------------------+\n",
      "+----------------------------+-----------------------+\n",
      "|           codon            |    Execution Time     |\n",
      "+----------------------------+-----------------------+\n",
      "|    Levenshtein Distance    | Total:  took 8.0801s  |\n",
      "| Longest Common Subsequence | Total:  took 9.78918s |\n",
      "|      Hamming Distance      | Total:  took 8.2862s  |\n",
      "|     Manhattan Tourist      | Total:  took 9.93125s |\n",
      "|     Minimum Cost Path      | Total:  took 11.0169s |\n",
      "|      Needleman Wunsch      | Total:  took 10.0315s |\n",
      "|       Smith Waterman       | Total:  took 17.8195s |\n",
      "+----------------------------+-----------------------+\n",
      "+----------------------------+----------------+\n",
      "|            cpp             | Execution Time |\n",
      "+----------------------------+----------------+\n",
      "|    Levenshtein Distance    |      8.42      |\n",
      "| Longest Common Subsequence |      6.09      |\n",
      "|      Hamming Distance      |      5.93      |\n",
      "|     Manhattan Tourist      |      4.32      |\n",
      "|     Minimum Cost Path      |      7.73      |\n",
      "|      Needleman Wunsch      |     14.98      |\n",
      "|       Smith Waterman       |     21.20      |\n",
      "+----------------------------+----------------+\n"
     ]
    }
   ],
   "source": [
    "batch_exec('vectron', 'int_small')\n",
    "\n",
    "batch_exec('codon', 'int_small')\n",
    "\n",
    "batch_exec('cpp', 'int_small')"
   ]
  },
  {
   "cell_type": "markdown",
   "id": "afd01ab3",
   "metadata": {},
   "source": [
    "The following module will execute vectron, codon and C++ respectively, and benchmark their runtimes for the medium dataset (262,144 sequence pairs)"
   ]
  },
  {
   "cell_type": "code",
   "execution_count": 5,
   "id": "1f81b0ca-c2a3-4dd7-a759-c0554b4f6f94",
   "metadata": {},
   "outputs": [
    {
     "name": "stdout",
     "output_type": "stream",
     "text": [
      "+----------------------------+-----------------------+\n",
      "|          vectron           |    Execution Time     |\n",
      "+----------------------------+-----------------------+\n",
      "|    Levenshtein Distance    | Total:  took 24.1062s |\n",
      "| Longest Common Subsequence | Total:  took 22.8324s |\n",
      "|      Hamming Distance      | Total:  took 1.92024s |\n",
      "|     Manhattan Tourist      | Total:  took 32.4822s |\n",
      "|     Minimum Cost Path      | Total:  took 47.4777s |\n",
      "|      Needleman Wunsch      | Total:  took 30.6931s |\n",
      "|       Smith Waterman       | Total:  took 18.3113s |\n",
      "+----------------------------+-----------------------+\n",
      "+----------------------------+-----------------------+\n",
      "|           codon            |    Execution Time     |\n",
      "+----------------------------+-----------------------+\n",
      "|    Levenshtein Distance    | Total:  took 521.671s |\n",
      "| Longest Common Subsequence | Total:  took 604.978s |\n",
      "|      Hamming Distance      | Total:  took 518.549s |\n",
      "|     Manhattan Tourist      |  Total:  took 637.3s  |\n",
      "|     Minimum Cost Path      | Total:  took 658.678s |\n",
      "|      Needleman Wunsch      | Total:  took 651.821s |\n",
      "|       Smith Waterman       | Total:  took 1147.98s |\n",
      "+----------------------------+-----------------------+\n",
      "+----------------------------+----------------+\n",
      "|            cpp             | Execution Time |\n",
      "+----------------------------+----------------+\n",
      "|    Levenshtein Distance    |     461.63     |\n",
      "| Longest Common Subsequence |     439.84     |\n",
      "|      Hamming Distance      |     326.37     |\n",
      "|     Manhattan Tourist      |     300.53     |\n",
      "|     Minimum Cost Path      |     485.97     |\n",
      "|      Needleman Wunsch      |    1017.90     |\n",
      "|       Smith Waterman       |    1291.24     |\n",
      "+----------------------------+----------------+\n"
     ]
    }
   ],
   "source": [
    "batch_exec('vectron', 'int_medium')\n",
    "\n",
    "batch_exec('codon', 'int_medium')\n",
    "\n",
    "batch_exec('cpp', 'int_medium')"
   ]
  },
  {
   "cell_type": "markdown",
   "id": "7777c79a",
   "metadata": {},
   "source": [
    "The following modules will execute vectron, codon and C++ respectively, and benchmark their runtimes for the large dataset (4,194,304 sequence pairs)"
   ]
  },
  {
   "cell_type": "code",
   "execution_count": 6,
   "id": "00a5badb-feb7-468c-bae8-49d47c083ed9",
   "metadata": {},
   "outputs": [
    {
     "name": "stdout",
     "output_type": "stream",
     "text": [
      "+----------------------------+-----------------------+\n",
      "|          vectron           |    Execution Time     |\n",
      "+----------------------------+-----------------------+\n",
      "|    Levenshtein Distance    | Total:  took 351.592s |\n",
      "| Longest Common Subsequence | Total:  took 350.358s |\n",
      "|      Hamming Distance      | Total:  took 28.1443s |\n",
      "|     Manhattan Tourist      | Total:  took 502.26s  |\n",
      "|     Minimum Cost Path      | Total:  took 734.145s |\n",
      "|      Needleman Wunsch      | Total:  took 457.519s |\n",
      "|       Smith Waterman       | Total:  took 312.49s  |\n",
      "+----------------------------+-----------------------+\n"
     ]
    }
   ],
   "source": [
    "batch_exec('vectron', 'int_large')"
   ]
  },
  {
   "cell_type": "code",
   "execution_count": null,
   "id": "26b10a9b-9998-467c-a173-069c3543c2e5",
   "metadata": {},
   "outputs": [],
   "source": [
    "batch_exec('codon', 'int_large')"
   ]
  },
  {
   "cell_type": "code",
   "execution_count": null,
   "id": "084bd2c2-158d-4164-bf84-21dc64ff535d",
   "metadata": {},
   "outputs": [],
   "source": [
    "batch_exec('cpp', 'int_large')"
   ]
  },
  {
   "cell_type": "markdown",
   "id": "220c0817",
   "metadata": {},
   "source": [
    "The following module will compile vectron, cuda and C++ benchmarks on GPU in floating-point mode"
   ]
  },
  {
   "cell_type": "code",
   "execution_count": 7,
   "id": "ef0aa12a",
   "metadata": {},
   "outputs": [],
   "source": [
    "## COMPILING VECTRON EXPERIMENT:\n",
    "compile('vectron', '/vectron/docker/experiments_docker/source/vectron_float/smith_waterman.codon', '/vectron/docker/experiments_docker/source/vectron')\n",
    "\n",
    "## COMPILING cuda EXPERIMENT:\n",
    "compile('cuda', '/vectron/docker/experiments_docker/source/cuda/smith_waterman_cuda.cu')\n",
    "\n",
    "## COMPILING C++ EXPERIMENT:\n",
    "compile('cpp', '/vectron/docker/experiments_docker/source/cuda/smith_waterman.cpp')"
   ]
  },
  {
   "cell_type": "markdown",
   "id": "d270a44a",
   "metadata": {},
   "source": [
    "The following module will execute vectron, codon and C++ respectively, and benchmark their runtimes for the small GPU dataset (256 sequence pairs)"
   ]
  },
  {
   "cell_type": "code",
   "execution_count": 21,
   "id": "15fbd2cd",
   "metadata": {},
   "outputs": [
    {
     "name": "stdout",
     "output_type": "stream",
     "text": [
      "+----------------+------------------------+\n",
      "|    vectron     |     Execution Time     |\n",
      "+----------------+------------------------+\n",
      "| Smith Waterman | Total:  took 0.414509s |\n",
      "+----------------+------------------------+\n",
      "+----------------+----------------+\n",
      "|      cuda      | Execution Time |\n",
      "+----------------+----------------+\n",
      "| Smith Waterman |      2.06      |\n",
      "+----------------+----------------+\n",
      "+----------------+----------------+\n",
      "|      cpp       | Execution Time |\n",
      "+----------------+----------------+\n",
      "| Smith Waterman |      0.25      |\n",
      "+----------------+----------------+\n"
     ]
    }
   ],
   "source": [
    "batch_exec('vectron', 'float_small')\n",
    "\n",
    "batch_exec('cuda', 'float_small')\n",
    "\n",
    "batch_exec('cpp', 'float_small')"
   ]
  },
  {
   "cell_type": "markdown",
   "id": "ea895c7d",
   "metadata": {},
   "source": [
    "The following module will execute vectron, codon and C++ respectively, and benchmark their runtimes for the medium GPU dataset (1024 sequence pairs)"
   ]
  },
  {
   "cell_type": "code",
   "execution_count": 22,
   "id": "6fad4340",
   "metadata": {},
   "outputs": [
    {
     "name": "stdout",
     "output_type": "stream",
     "text": [
      "+----------------+-----------------------+\n",
      "|    vectron     |    Execution Time     |\n",
      "+----------------+-----------------------+\n",
      "| Smith Waterman | Total:  took 1.42555s |\n",
      "+----------------+-----------------------+\n",
      "+----------------+----------------+\n",
      "|      cuda      | Execution Time |\n",
      "+----------------+----------------+\n",
      "| Smith Waterman |      1.69      |\n",
      "+----------------+----------------+\n",
      "+----------------+----------------+\n",
      "|      cpp       | Execution Time |\n",
      "+----------------+----------------+\n",
      "| Smith Waterman |      1.30      |\n",
      "+----------------+----------------+\n"
     ]
    }
   ],
   "source": [
    "batch_exec('vectron', 'float_medium')\n",
    "\n",
    "batch_exec('cuda', 'float_medium')\n",
    "\n",
    "batch_exec('cpp', 'float_medium')"
   ]
  },
  {
   "cell_type": "markdown",
   "id": "c1f1438f",
   "metadata": {},
   "source": [
    "The following module will execute vectron, codon and C++ respectively, and benchmark their runtimes for the large GPU dataset (4096 sequence pairs)"
   ]
  },
  {
   "cell_type": "code",
   "execution_count": 23,
   "id": "4a182b00",
   "metadata": {},
   "outputs": [
    {
     "name": "stdout",
     "output_type": "stream",
     "text": [
      "+----------------+----------------------+\n",
      "|    vectron     |    Execution Time    |\n",
      "+----------------+----------------------+\n",
      "| Smith Waterman | Total:  took 5.3616s |\n",
      "+----------------+----------------------+\n",
      "+----------------+----------------+\n",
      "|      cuda      | Execution Time |\n",
      "+----------------+----------------+\n",
      "| Smith Waterman |      2.20      |\n",
      "+----------------+----------------+\n",
      "+----------------+----------------+\n",
      "|      cpp       | Execution Time |\n",
      "+----------------+----------------+\n",
      "| Smith Waterman |      8.67      |\n",
      "+----------------+----------------+\n"
     ]
    }
   ],
   "source": [
    "batch_exec('vectron', 'float_large')\n",
    "\n",
    "batch_exec('cuda', 'float_large')\n",
    "\n",
    "batch_exec('cpp', 'float_large')"
   ]
  }
 ],
 "metadata": {
  "kernelspec": {
   "display_name": "Python 3 (ipykernel)",
   "language": "python",
   "name": "python3"
  },
  "language_info": {
   "codemirror_mode": {
    "name": "ipython",
    "version": 3
   },
   "file_extension": ".py",
   "mimetype": "text/x-python",
   "name": "python",
   "nbconvert_exporter": "python",
   "pygments_lexer": "ipython3",
   "version": "3.10.12"
  }
 },
 "nbformat": 4,
 "nbformat_minor": 5
}
