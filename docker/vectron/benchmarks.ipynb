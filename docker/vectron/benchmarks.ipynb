{
 "cells": [
  {
   "cell_type": "markdown",
   "id": "a0ba4b16-15a8-43df-9688-2114ac15c418",
   "metadata": {},
   "source": [
    "# Vectron Benchmark\n",
    "## This notebook will go over all of Vectron's tests presented in the article. Note that some runtimes might differ from the ones presented in the article due to using a virtual container and the difference between the hardware configuratuons of the systems the simulation is run on. However, if the speedups are compared, the same results will be achieved.\n",
    "\n",
    "## Also note that the input sequences for Codon, Vectron, C++ and CUDA (seqx.txt and seqy.txt) all have the same identical sequences, but due to the fact that C++ and CUDA handle pairs of sequences better, we prepared the same sequences fed to Codon and Vectron ready to be paired, called them with their appropriate names based on their number of sequences and fed them to C++ and CUDA"
   ]
  },
  {
   "cell_type": "code",
   "execution_count": null,
   "id": "05fe33b3-363b-4803-9f89-2b653b6773e6",
   "metadata": {},
   "outputs": [],
   "source": [
    "import subprocess\n",
    "import os\n",
    "os.system(\"codon build /vectron/experiments_docker/source/vectron.codon\")"
   ]
  },
  {
   "cell_type": "code",
   "execution_count": null,
   "id": "f1918670-0546-4f2b-8431-09bd33916eb4",
   "metadata": {},
   "outputs": [],
   "source": [
    "def compile(mode, src, vectron_path = ''):\n",
    "    if mode == 'vectron':\n",
    "        result = subprocess.run([vectron_path, '/codon-seq', '/vectron', f'{src}'], capture_output=True, text=True)\n",
    "        print(result)\n",
    "    elif mode == 'codon':\n",
    "        result = subprocess.run(['codon', 'build', '-plugin', '/codon-seq', f'{src}', '-release'], capture_output=True, text=True)\n",
    "        print(result)\n",
    "    elif mode == 'cpp':             \n",
    "        result = subprocess.run([\n",
    "            'clang++', '-O3', '-msse4.2', '-funroll-loops', '-mfpmath=sse', '-march=native',\n",
    "            f'{src}', '-o', f'{os.path.splitext(src)[0]}'\n",
    "        ], capture_output=True, text=True)\n",
    "        print(result)     \n",
    "    elif mode == 'cuda':\n",
    "        result = subprocess.run([\n",
    "            'nvcc', '-o', f'{os.path.splitext(src)[0]}', f'{src}'\n",
    "        ], capture_output=True, text=True)\n",
    "        print(result)          \n",
    "\n",
    "def exec(mode, src, ds_type):\n",
    "    seq_x = ''\n",
    "    seq_y = ''\n",
    "    if ds_type == 'INT_small':\n",
    "        if mode == 'vectron' or mode == 'codon':\n",
    "            seq_x = '/vectron/experiments_docker/data/INT_small/seqx.txt'\n",
    "            seq_y = '/vectron/experiments_docker/data/INT_small/seqy.txt'\n",
    "        elif mode == 'cpp':\n",
    "            seq_x = '/vectron/experiments_docker/data/CPP_small/seqx_4096.txt'\n",
    "            seq_y = '/vectron/experiments_docker/data/CPP_small/seqy_4096.txt'  \n",
    "    elif ds_type == 'INT_medium':\n",
    "        if mode == 'vectron' or mode == 'codon':\n",
    "            seq_x = '/vectron/experiments_docker/data/INT_medium/seqx.txt'\n",
    "            seq_y = '/vectron/experiments_docker/data/INT_medium/seqy.txt'\n",
    "        elif mode == 'cpp':\n",
    "            seq_x = '/vectron/experiments_docker/data/CPP_medium/seqx_262144.txt'\n",
    "            seq_y = '/vectron/experiments_docker/data/CPP_medium/seqy_262144.txt'  \n",
    "    elif ds_type == 'INT_large':\n",
    "        if mode == 'vectron' or mode == 'codon':\n",
    "            seq_x = '/vectron/experiments_docker/data/INT_large/seqx.txt'\n",
    "            seq_y = '/vectron/experiments_docker/data/INT_large/seqy.txt'\n",
    "        elif mode == 'cpp':\n",
    "            seq_x = '/vectron/experiments_docker/data/CPP_large/seqx_4194304.txt'\n",
    "            seq_y = '/vectron/experiments_docker/data/CPP_large/seqy_4194304.txt'          \n",
    "\n",
    "    if ds_type == 'FLOAT_small':\n",
    "        if mode == 'vectron':\n",
    "            seq_x = '/vectron/experiments_docker/data/FLOAT_small/seqx.txt'\n",
    "            seq_y = '/vectron/experiments_docker/data/FLOAT_small/seqy.txt'\n",
    "        elif mode == 'cuda' or mode == 'cpp':\n",
    "            seq_x = '/vectron/experiments_docker/data/CUDA_small/seqx_256.txt'\n",
    "            seq_y = '/vectron/experiments_docker/data/CUDA_small/seqy_256.txt'  \n",
    "    elif ds_type == 'FLOAT_medium':\n",
    "        if mode == 'vectron':\n",
    "            seq_x = '/vectron/experiments_docker/data/FLOAT_medium/seqx.txt'\n",
    "            seq_y = '/vectron/experiments_docker/data/FLOAT_medium/seqy.txt'\n",
    "        elif mode == 'cuda' or mode == 'cpp':\n",
    "            seq_x = '/vectron/experiments_docker/data/CUDA_medium/seqx_1024.txt'\n",
    "            seq_y = '/vectron/experiments_docker/data/CUDA_medium/seqy_1024.txt'  \n",
    "    elif ds_type == 'FLOAT_large':\n",
    "        if mode == 'vectron':\n",
    "            seq_x = '/vectron/experiments_docker/data/FLOAT_large/seqx.txt'\n",
    "            seq_y = '/vectron/experiments_docker/data/FLOAT_large/seqy.txt'\n",
    "        elif mode == 'cuda' or mode == 'cpp':\n",
    "            seq_x = '/vectron/experiments_docker/data/CUDA_large/seqx_4096.txt'\n",
    "            seq_y = '/vectron/experiments_docker/data/CUDA_large/seqy_4096.txt'          \n",
    "\n",
    "    if mode == 'vectron':\n",
    "        result = subprocess.run(f'{src} {seq_y} {seq_x} >vectron_out.txt', capture_output=True, text=True, shell=True)\n",
    "        print(result.stderr)\n",
    "    elif mode == 'codon':\n",
    "        result = subprocess.run(f'{src} {seq_y} {seq_x} >codon_out.txt', capture_output=True, text=True, shell=True)\n",
    "        print(result.stderr)\n",
    "    elif mode == 'cpp':\n",
    "        result = subprocess.run(f'{src} {seq_y} {seq_x} >cpp_out.txt', capture_output=True, text=True, shell=True)\n",
    "        with open('cpp_out.txt', 'r') as file:\n",
    "            lines = file.readlines()\n",
    "            return(lines[-1].strip())\n",
    "    elif mode == 'cuda':\n",
    "        result = subprocess.run(f'{src} {seq_y} {seq_x} >cuda_out.txt', capture_output=True, text=True, shell=True)    \n",
    "        with open('cpp_out.txt', 'r') as file:\n",
    "            lines = file.readlines()\n",
    "            return(lines[-1].strip())"
   ]
  },
  {
   "cell_type": "markdown",
   "id": "8293e8a9-d550-4861-876a-c56a68963ae1",
   "metadata": {},
   "source": [
    "### The following module will compile Vectron, Codon and C++ benchmarks on CPU in integer mode"
   ]
  },
  {
   "cell_type": "code",
   "execution_count": null,
   "id": "f10924f1-054e-4453-8d08-78fb8b297118",
   "metadata": {},
   "outputs": [],
   "source": [
    "## COMPILING VECTRON EXPERIMENTS:\n",
    "compile('vectron', '/vectron/experiments_docker/source/Vectron_INT/smith_waterman.codon', '/vectron/experiments_docker/source/vectron')\n",
    "compile('vectron', '/vectron/experiments_docker/source/Vectron_INT/needleman_wunsch.codon', '/vectron/experiments_docker/source/vectron')\n",
    "compile('vectron', '/vectron/experiments_docker/source/Vectron_INT/levenshtein_distance.codon', '/vectron/experiments_docker/source/vectron')\n",
    "compile('vectron', '/vectron/experiments_docker/source/Vectron_INT/lcs.codon', '/vectron/experiments_docker/source/vectron')\n",
    "compile('vectron', '/vectron/experiments_docker/source/Vectron_INT/hamming_distance.codon', '/vectron/experiments_docker/source/vectron')\n",
    "compile('vectron', '/vectron/experiments_docker/source/Vectron_INT/manhattan_tourist.codon', '/vectron/experiments_docker/source/vectron')\n",
    "compile('vectron', '/vectron/experiments_docker/source/Vectron_INT/min_cost_path.codon', '/vectron/experiments_docker/source/vectron')\n",
    "\n",
    "## COMPILING CODON EXPERIMENTS:\n",
    "compile('codon', '/vectron/experiments_docker/source/Codon/smith_waterman.codon')\n",
    "compile('codon', '/vectron/experiments_docker/source/Codon/needleman_wunsch.codon')\n",
    "compile('codon', '/vectron/experiments_docker/source/Codon/levenshtein_distance.codon')\n",
    "compile('codon', '/vectron/experiments_docker/source/Codon/lcs.codon')\n",
    "compile('codon', '/vectron/experiments_docker/source/Codon/hamming_distance.codon')\n",
    "compile('codon', '/vectron/experiments_docker/source/Codon/manhattan_tourist.codon')\n",
    "compile('codon', '/vectron/experiments_docker/source/Codon/min_cost_path.codon')\n",
    "\n",
    "## COMPILING C++ EXPERIMENTS:\n",
    "compile('cpp', '/vectron/experiments_docker/source/CPP/cpp_sw.cpp')\n",
    "compile('cpp', '/vectron/experiments_docker/source/CPP/cpp_nmw.cpp')\n",
    "compile('cpp', '/vectron/experiments_docker/source/CPP/cpp_LD.cpp')\n",
    "compile('cpp', '/vectron/experiments_docker/source/CPP/cpp_lcs.cpp')\n",
    "compile('cpp', '/vectron/experiments_docker/source/CPP/cpp_hd.cpp')\n",
    "compile('cpp', '/vectron/experiments_docker/source/CPP/cpp_mt.cpp')\n",
    "compile('cpp', '/vectron/experiments_docker/source/CPP/cpp_mcp.cpp')"
   ]
  },
  {
   "cell_type": "markdown",
   "id": "61fe3d72",
   "metadata": {},
   "source": [
    "### The following modules will execute Vectron, Codon and C++ respectively, and benchmark their runtimes for the small dataset (4096 sequence pairs)"
   ]
  },
  {
   "cell_type": "code",
   "execution_count": null,
   "id": "068949c5-51e0-4aba-b1d4-8fde6a81b044",
   "metadata": {},
   "outputs": [],
   "source": [
    "## RUNNING VECTRON EXPERIMENTS:\n",
    "print(\"Smith Waterman Time:\")\n",
    "exec('vectron', '/vectron/experiments_docker/source/Vectron_INT/smith_waterman', 'INT_small')\n",
    "print(\"Needleman Wunsch Time:\")\n",
    "exec('vectron', '/vectron/experiments_docker/source/Vectron_INT/needleman_wunsch', 'INT_small')\n",
    "print(\"Levenshtein Distance Time:\")\n",
    "exec('vectron', '/vectron/experiments_docker/source/Vectron_INT/levenshtein_distance', 'INT_small')\n",
    "print(\"Longest Common Subsequence Time:\")\n",
    "exec('vectron', '/vectron/experiments_docker/source/Vectron_INT/lcs', 'INT_small')\n",
    "print(\"Hamming Distance Time:\")\n",
    "exec('vectron', '/vectron/experiments_docker/source/Vectron_INT/hamming_distance', 'INT_small')\n",
    "print(\"Manhattan Tourist Time:\")\n",
    "exec('vectron', '/vectron/experiments_docker/source/Vectron_INT/manhattan_tourist', 'INT_small')\n",
    "print(\"Minimum Cost Path Time:\")\n",
    "exec('vectron', '/vectron/experiments_docker/source/Vectron_INT/min_cost_path', 'INT_small')"
   ]
  },
  {
   "cell_type": "code",
   "execution_count": null,
   "id": "1f81b0ca-c2a3-4dd7-a759-c0554b4f6f94",
   "metadata": {},
   "outputs": [],
   "source": [
    "## RUNNING CODON EXPERIMENTS:\n",
    "print(\"Smith Waterman Time:\")\n",
    "exec('codon', '/vectron/experiments_docker/source/Codon/smith_waterman', 'INT_small')\n",
    "print(\"Needleman Wunsch Time:\")\n",
    "exec('codon', '/vectron/experiments_docker/source/Codon/needleman_wunsch', 'INT_small')\n",
    "print(\"Levenshtein Distance Time:\")\n",
    "exec('codon', '/vectron/experiments_docker/source/Codon/levenshtein_distance', 'INT_small')\n",
    "print(\"Longest Common Subsequence Time:\")\n",
    "exec('codon', '/vectron/experiments_docker/source/Codon/lcs', 'INT_small')\n",
    "print(\"Hamming Distance Time:\")\n",
    "exec('codon', '/vectron/experiments_docker/source/Codon/hamming_distance', 'INT_small')\n",
    "print(\"Manhattan Tourist Time:\")\n",
    "exec('codon', '/vectron/experiments_docker/source/Codon/manhattan_tourist', 'INT_small')\n",
    "print(\"Minimum Cost Path Time:\")\n",
    "exec('codon', '/vectron/experiments_docker/source/Codon/min_cost_path', 'INT_small')"
   ]
  },
  {
   "cell_type": "code",
   "execution_count": null,
   "id": "00a5badb-feb7-468c-bae8-49d47c083ed9",
   "metadata": {},
   "outputs": [],
   "source": [
    "## RUNNING C++ EXPERIMENTS:\n",
    "print(\"Smith Waterman Time:\")\n",
    "exec('cpp', '/vectron/experiments_docker/source/CPP/cpp_sw', 'INT_small')\n",
    "print(\"Needleman Wunsch Time:\")\n",
    "exec('cpp', '/vectron/experiments_docker/source/CPP/cpp_nmw', 'INT_small')\n",
    "print(\"Levenshtein Distance Time:\")\n",
    "exec('cpp', '/vectron/experiments_docker/source/CPP/cpp_LD', 'INT_small')\n",
    "print(\"Longest Common Subsequence Time:\")\n",
    "exec('cpp', '/vectron/experiments_docker/source/CPP/cpp_lcs', 'INT_small')\n",
    "print(\"Hamming Distance Time:\")\n",
    "exec('cpp', '/vectron/experiments_docker/source/CPP/cpp_hd', 'INT_small')\n",
    "print(\"Manhattan Tourist Time:\")\n",
    "exec('cpp', '/vectron/experiments_docker/source/CPP/cpp_mt', 'INT_small')\n",
    "print(\"Minimum Cost Path Time:\")\n",
    "exec('cpp', '/vectron/experiments_docker/source/CPP/cpp_mcp', 'INT_small')"
   ]
  },
  {
   "cell_type": "markdown",
   "id": "32ca5166-0696-4e22-a3f7-9f77bb0268fe",
   "metadata": {},
   "source": [
    "### The following modules will execute Vectron, Codon and C++ respectively, and benchmark their runtimes for the medium dataset (262,144 sequence pairs)"
   ]
  },
  {
   "cell_type": "code",
   "execution_count": null,
   "id": "11ad9b96-33e8-4975-a81d-c6ed34ed8d11",
   "metadata": {},
   "outputs": [],
   "source": [
    "## RUNNING VECTRON EXPERIMENTS:\n",
    "print(\"Smith Waterman Time:\")\n",
    "exec('vectron', '/vectron/experiments_docker/source/Vectron_INT/smith_waterman', 'INT_medium')\n",
    "print(\"Needleman Wunsch Time:\")\n",
    "exec('vectron', '/vectron/experiments_docker/source/Vectron_INT/needleman_wunsch', 'INT_medium')\n",
    "print(\"Levenshtein Distance Time:\")\n",
    "exec('vectron', '/vectron/experiments_docker/source/Vectron_INT/levenshtein_distance', 'INT_medium')\n",
    "print(\"Longest Common Subsequence Time:\")\n",
    "exec('vectron', '/vectron/experiments_docker/source/Vectron_INT/lcs', 'INT_small')\n",
    "print(\"Hamming Distance Time:\")\n",
    "exec('vectron', '/vectron/experiments_docker/source/Vectron_INT/hamming_distance', 'INT_medium')\n",
    "print(\"Manhattan Tourist Time:\")\n",
    "exec('vectron', '/vectron/experiments_docker/source/Vectron_INT/manhattan_tourist', 'INT_medium')\n",
    "print(\"Minimum Cost Path Time:\")\n",
    "exec('vectron', '/vectron/experiments_docker/source/Vectron_INT/min_cost_path', 'INT_medium')"
   ]
  },
  {
   "cell_type": "code",
   "execution_count": null,
   "id": "c364ec37-4d9a-449d-8d60-ee1137afa342",
   "metadata": {},
   "outputs": [],
   "source": [
    "## RUNNING CODON EXPERIMENTS:\n",
    "print(\"Smith Waterman Time:\")\n",
    "exec('codon', '/vectron/experiments_docker/source/Codon/smith_waterman', 'INT_medium')\n",
    "print(\"Needleman Wunsch Time:\")\n",
    "exec('codon', '/vectron/experiments_docker/source/Codon/needleman_wunsch', 'INT_medium')\n",
    "print(\"Levenshtein Distance Time:\")\n",
    "exec('codon', '/vectron/experiments_docker/source/Codon/levenshtein_distance', 'INT_medium')\n",
    "print(\"Longest Common Subsequence Time:\")\n",
    "exec('codon', '/vectron/experiments_docker/source/Codon/lcs', 'INT_medium')\n",
    "print(\"Hamming Distance Time:\")\n",
    "exec('codon', '/vectron/experiments_docker/source/Codon/hamming_distance', 'INT_medium')\n",
    "print(\"Manhattan Tourist Time:\")\n",
    "exec('codon', '/vectron/experiments_docker/source/Codon/manhattan_tourist', 'INT_medium')\n",
    "print(\"Minimum Cost Path Time:\")\n",
    "exec('codon', '/vectron/experiments_docker/source/Codon/min_cost_path', 'INT_medium')"
   ]
  },
  {
   "cell_type": "code",
   "execution_count": null,
   "id": "2a180b48-3d44-42dd-80da-0b178014d24d",
   "metadata": {},
   "outputs": [],
   "source": [
    "## RUNNING C++ EXPERIMENTS:\n",
    "print(\"Smith Waterman Time:\")\n",
    "exec('cpp', '/vectron/experiments_docker/source/CPP/cpp_sw', 'INT_medium')\n",
    "print(\"Needleman Wunsch Time:\")\n",
    "exec('cpp', '/vectron/experiments_docker/source/CPP/cpp_nmw', 'INT_medium')\n",
    "print(\"Levenshtein Distance Time:\")\n",
    "exec('cpp', '/vectron/experiments_docker/source/CPP/cpp_LD', 'INT_medium')\n",
    "print(\"Longest Common Subsequence Time:\")\n",
    "exec('cpp', '/vectron/experiments_docker/source/CPP/cpp_lcs', 'INT_medium')\n",
    "print(\"Hamming Distance Time:\")\n",
    "exec('cpp', '/vectron/experiments_docker/source/CPP/cpp_hd', 'INT_medium')\n",
    "print(\"Manhattan Tourist Time:\")\n",
    "exec('cpp', '/vectron/experiments_docker/source/CPP/cpp_mt', 'INT_medium')\n",
    "print(\"Minimum Cost Path Time:\")\n",
    "exec('cpp', '/vectron/experiments_docker/source/CPP/cpp_mcp', 'INT_medium')"
   ]
  },
  {
   "cell_type": "markdown",
   "id": "3cf761bc-234c-4c8f-a0f1-95efb1936596",
   "metadata": {},
   "source": [
    "### The following modules will execute Vectron, Codon and C++ respectively, and benchmark their runtimes for the large dataset (4,194,304 sequence pairs)"
   ]
  },
  {
   "cell_type": "code",
   "execution_count": null,
   "id": "f791beb3-e7fe-4a76-8cc1-e4c5a6192829",
   "metadata": {},
   "outputs": [],
   "source": [
    "## RUNNING VECTRON EXPERIMENTS:\n",
    "print(\"Smith Waterman Time:\")\n",
    "exec('vectron', '/vectron/experiments_docker/source/Vectron_INT/smith_waterman', 'INT_large')\n",
    "print(\"Needleman Wunsch Time:\")\n",
    "exec('vectron', '/vectron/experiments_docker/source/Vectron_INT/needleman_wunsch', 'INT_large')\n",
    "print(\"Levenshtein Distance Time:\")\n",
    "exec('vectron', '/vectron/experiments_docker/source/Vectron_INT/levenshtein_distance', 'INT_large')\n",
    "print(\"Longest Common Subsequence Time:\")\n",
    "exec('vectron', '/vectron/experiments_docker/source/Vectron_INT/lcs', 'INT_large')\n",
    "print(\"Hamming Distance Time:\")\n",
    "exec('vectron', '/vectron/experiments_docker/source/Vectron_INT/hamming_distance', 'INT_large')\n",
    "print(\"Manhattan Tourist Time:\")\n",
    "exec('vectron', '/vectron/experiments_docker/source/Vectron_INT/manhattan_tourist', 'INT_large')\n",
    "print(\"Minimum Cost Path Time:\")\n",
    "exec('vectron', '/vectron/experiments_docker/source/Vectron_INT/min_cost_path', 'INT_large')"
   ]
  },
  {
   "cell_type": "code",
   "execution_count": null,
   "id": "f308020f",
   "metadata": {},
   "outputs": [],
   "source": [
    "## RUNNING CODON EXPERIMENTS:\n",
    "print(\"Smith Waterman Time:\")\n",
    "exec('codon', '/vectron/experiments_docker/source/Codon/smith_waterman', 'INT_large')\n",
    "print(\"Needleman Wunsch Time:\")\n",
    "exec('codon', '/vectron/experiments_docker/source/Codon/needleman_wunsch', 'INT_large')\n",
    "print(\"Levenshtein Distance Time:\")\n",
    "exec('codon', '/vectron/experiments_docker/source/Codon/levenshtein_distance', 'INT_large')\n",
    "print(\"Longest Common Subsequence Time:\")\n",
    "exec('codon', '/vectron/experiments_docker/source/Codon/lcs', 'INT_large')\n",
    "print(\"Hamming Distance Time:\")\n",
    "exec('codon', '/vectron/experiments_docker/source/Codon/hamming_distance', 'INT_large')\n",
    "print(\"Manhattan Tourist Time:\")\n",
    "exec('codon', '/vectron/experiments_docker/source/Codon/manhattan_tourist', 'INT_large')\n",
    "print(\"Minimum Cost Path Time:\")\n",
    "exec('codon', '/vectron/experiments_docker/source/Codon/min_cost_path', 'INT_large')"
   ]
  },
  {
   "cell_type": "code",
   "execution_count": null,
   "id": "a047cf26",
   "metadata": {},
   "outputs": [],
   "source": [
    "## RUNNING C++ EXPERIMENTS:\n",
    "print(\"Smith Waterman Time:\")\n",
    "exec('cpp', '/vectron/experiments_docker/source/CPP/cpp_sw', 'INT_large')\n",
    "print(\"Needleman Wunsch Time:\")\n",
    "exec('cpp', '/vectron/experiments_docker/source/CPP/cpp_nmw', 'INT_large')\n",
    "print(\"Levenshtein Distance Time:\")\n",
    "exec('cpp', '/vectron/experiments_docker/source/CPP/cpp_LD', 'INT_large')\n",
    "print(\"Longest Common Subsequence Time:\")\n",
    "exec('cpp', '/vectron/experiments_docker/source/CPP/cpp_lcs', 'INT_large')\n",
    "print(\"Hamming Distance Time:\")\n",
    "exec('cpp', '/vectron/experiments_docker/source/CPP/cpp_hd', 'INT_large')\n",
    "print(\"Manhattan Tourist Time:\")\n",
    "exec('cpp', '/vectron/experiments_docker/source/CPP/cpp_mt', 'INT_large')\n",
    "print(\"Minimum Cost Path Time:\")\n",
    "exec('cpp', '/vectron/experiments_docker/source/CPP/cpp_mcp', 'INT_large')"
   ]
  },
  {
   "cell_type": "markdown",
   "id": "220c0817",
   "metadata": {},
   "source": [
    "### The following module will compile Vectron, CUDA and C++ benchmarks on GPU in floating-point mode"
   ]
  },
  {
   "cell_type": "code",
   "execution_count": null,
   "id": "ef0aa12a",
   "metadata": {},
   "outputs": [],
   "source": [
    "## COMPILING VECTRON EXPERIMENT:\n",
    "compile('vectron', '/vectron/experiments_docker/source/Vectron_FLOAT/smith_waterman.codon', '/vectron/experiments_docker/source/vectron')\n",
    "\n",
    "## COMPILING CUDA EXPERIMENT:\n",
    "compile('cuda', '/vectron/experiments_docker/source/CUDA/cuda_sw.cu')\n",
    "\n",
    "## COMPILING C++ EXPERIMENT:\n",
    "compile('cpp', '/vectron/experiments_docker/source/CUDA/cpp_sw.cpp')"
   ]
  },
  {
   "cell_type": "markdown",
   "id": "d270a44a",
   "metadata": {},
   "source": [
    "### The following module will execute Vectron, Codon and C++ respectively, and benchmark their runtimes for the small GPU dataset (256 sequence pairs)"
   ]
  },
  {
   "cell_type": "code",
   "execution_count": null,
   "id": "15fbd2cd",
   "metadata": {
    "scrolled": true
   },
   "outputs": [],
   "source": [
    "#RUNNING VECTRON EXPERIMENT:\n",
    "print(\"Vectron Smith Waterman Time:\")\n",
    "exec('vectron', '/vectron/experiments_docker/source/Vectron_FLOAT/smith_waterman', 'FLOAT_small')\n",
    "\n",
    "#RUNNIG CUDA EXPERIMENT:\n",
    "print(\"CUDA Smith Waterman Time:\")\n",
    "exec('cuda', '/vectron/experiments_docker/source/CUDA/cuda_sw', 'FLOAT_small')\n",
    "\n",
    "#RUNNING C++ EXPERIMENT:\n",
    "print(\"C++ Float Smith Waterman Time:\")\n",
    "exec('cpp', '/vectron/experiments_docker/source/CUDA/cpp_sw', 'FLOAT_small')"
   ]
  },
  {
   "cell_type": "markdown",
   "id": "ea895c7d",
   "metadata": {},
   "source": [
    "### The following module will execute Vectron, Codon and C++ respectively, and benchmark their runtimes for the medium GPU dataset (1024 sequence pairs)"
   ]
  },
  {
   "cell_type": "code",
   "execution_count": null,
   "id": "6fad4340",
   "metadata": {},
   "outputs": [],
   "source": [
    "#RUNNING VECTRON EXPERIMENT:\n",
    "print(\"Vectron Smith Waterman Time:\")\n",
    "exec('vectron', '/vectron/experiments_docker/source/Vectron_FLOAT/smith_waterman', 'FLOAT_medium')\n",
    "\n",
    "#RUNNIG CUDA EXPERIMENT:\n",
    "print(\"CUDA Smith Waterman Time:\")\n",
    "exec('cuda', '/vectron/experiments_docker/source/CUDA/cuda_sw', 'FLOAT_medium')\n",
    "\n",
    "#RUNNING C++ EXPERIMENT:\n",
    "print(\"C++ Float Smith Waterman Time:\")\n",
    "exec('cpp', '/vectron/experiments_docker/source/CUDA/cpp_sw', 'FLOAT_medium')"
   ]
  },
  {
   "cell_type": "markdown",
   "id": "c1f1438f",
   "metadata": {},
   "source": [
    "### The following module will execute Vectron, Codon and C++ respectively, and benchmark their runtimes for the large GPU dataset (4096 sequence pairs)"
   ]
  },
  {
   "cell_type": "code",
   "execution_count": null,
   "id": "4a182b00",
   "metadata": {},
   "outputs": [],
   "source": [
    "#RUNNING VECTRON EXPERIMENT:\n",
    "print(\"Vectron Smith Waterman Time:\")\n",
    "exec('vectron', '/vectron/experiments_docker/source/Vectron_FLOAT/smith_waterman', 'FLOAT_large')\n",
    "\n",
    "#RUNNIG CUDA EXPERIMENT:\n",
    "print(\"CUDA Smith Waterman Time:\")\n",
    "exec('cuda', '/vectron/experiments_docker/source/CUDA/cuda_sw', 'FLOAT_large')\n",
    "\n",
    "#RUNNING C++ EXPERIMENT:\n",
    "print(\"C++ Float Smith Waterman Time:\")\n",
    "exec('cpp', '/vectron/experiments_docker/source/CUDA/cpp_sw', 'FLOAT_large')"
   ]
  }
 ],
 "metadata": {
  "kernelspec": {
   "display_name": "Python 3 (ipykernel)",
   "language": "python",
   "name": "python3"
  },
  "language_info": {
   "codemirror_mode": {
    "name": "ipython",
    "version": 3
   },
   "file_extension": ".py",
   "mimetype": "text/x-python",
   "name": "python",
   "nbconvert_exporter": "python",
   "pygments_lexer": "ipython3",
   "version": "3.10.5"
  }
 },
 "nbformat": 4,
 "nbformat_minor": 5
}
