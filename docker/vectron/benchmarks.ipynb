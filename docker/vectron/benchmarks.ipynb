{
 "cells": [
  {
   "cell_type": "markdown",
   "id": "a0ba4b16-15a8-43df-9688-2114ac15c418",
   "metadata": {},
   "source": [
    "# Vectron Benchmark\n",
    "This notebook will go over all of vectron's tests presented in the article. Note that some runtimes might differ from the ones presented in the article due to using a virtual container and the difference between the hardware configuratuons of the systems the simulation is run on. However, if the speedups are compared, the same results will be achieved.\n",
    "\n",
    "Also note that the input sequences for codon, vectron, C++ and cuda (seqx.txt and seqy.txt) all have the same identical sequences, but due to the fact that C++ and cuda handle pairs of sequences better, we prepared the same sequences fed to codon and vectron ready to be paired and fed them to C++ and cuda. This preparation takes place in the build process of the vectron Dockerfile by running seq_modifier.python."
   ]
  },
  {
   "cell_type": "code",
   "execution_count": null,
   "id": "05fe33b3-363b-4803-9f89-2b653b6773e6",
   "metadata": {},
   "outputs": [],
   "source": [
    "import subprocess\n",
    "import os\n",
    "from tabulate import tabulate\n",
    "os.system(\"codon build /vectron/experiments_docker/source/vectron.codon\")"
   ]
  },
  {
   "cell_type": "code",
   "execution_count": null,
   "id": "f1918670-0546-4f2b-8431-09bd33916eb4",
   "metadata": {},
   "outputs": [],
   "source": [
    "def compile(mode, src, vectron_path = ''):\n",
    "    if mode == 'vectron':\n",
    "        result = subprocess.run([vectron_path, '/codon-seq', '/vectron', f'{src}'], capture_output=True, text=True)\n",
    "    elif mode == 'codon':\n",
    "        result = subprocess.run(['codon', 'build', '-plugin', '/codon-seq', f'{src}', '-release'], capture_output=True, text=True)\n",
    "    elif mode == 'cpp':             \n",
    "        result = subprocess.run([\n",
    "            'clang++', '-O3', '-msse4.2', '-funroll-loops', '-mfpmath=sse', '-march=native',\n",
    "            f'{src}', '-o', f'{os.path.splitext(src)[0]}'\n",
    "        ], capture_output=True, text=True)\n",
    "        #print(result)     \n",
    "    elif mode == 'cuda':\n",
    "        result = subprocess.run([\n",
    "            'nvcc', '-o', f'{os.path.splitext(src)[0]}', f'{src}'\n",
    "        ], capture_output=True, text=True)        \n",
    "\n",
    "def exec(mode, src, ds_type):\n",
    "    seq_x = ''\n",
    "    seq_y = ''\n",
    "    if mode == 'cpp' or mode == 'cuda':\n",
    "        ds_type = mode + \"_\" + ds_type.split(\"_\", 1)[1]\n",
    "    seq_x = f'/vectron/experiments_docker/data/{ds_type}/seqx.txt'\n",
    "    seq_y = f'/vectron/experiments_docker/data/{ds_type}/seqy.txt'       \n",
    "    result = subprocess.run(f'{src} {seq_y} {seq_x} >{mode}_out.txt', capture_output=True, text=True, shell=True)\n",
    "    if mode == 'vectron' or mode == 'codon':\n",
    "        return result.stderr\n",
    "    else:\n",
    "        with open(f'{mode}_out.txt', 'r') as file:\n",
    "            lines = file.readlines()\n",
    "            return(lines[-1].strip())\n",
    "        \n",
    "def batch_exec(mode, ds_type):\n",
    "    algorithms = [\n",
    "        (\"Levenshtein Distance\", \"levenshtein_distance\"),\n",
    "        (\"Longest Common Subsequence\", \"lcs\"),\n",
    "        (\"Hamming Distance\", \"hamming_distance\"),\n",
    "        (\"Manhattan Tourist\", \"manhattan_tourist\"),\n",
    "        (\"Minimum Cost Path\", \"min_cost_path\"),\n",
    "        (\"Needleman Wunsch\", \"needleman_wunsch\"),\n",
    "        (\"Smith Waterman\", \"smith_waterman\"),\n",
    "    ]\n",
    "    col1_width = 40\n",
    "    col2_width = 40\n",
    "    \n",
    "    results = []\n",
    "    if mode == 'vectron':\n",
    "        source_p = mode + '_' + ds_type.split(\"_\", 1)[0]\n",
    "    else:\n",
    "        source_p = mode\n",
    "\n",
    "    execution_time_string = \"Execution Time:\"\n",
    "    headers = [f\"{mode:<{col1_width}}\", f\"{execution_time_string:<{col2_width}}\"]\n",
    "    print(tabulate([], headers=headers, tablefmt=\"pretty\"))\n",
    "    \n",
    "    for name, exec_name in algorithms:\n",
    "        if mode == \"cuda\":\n",
    "            exec_path = f'/vectron/experiments_docker/source/{source_p}/{exec_name}_cuda'\n",
    "        else:\n",
    "            exec_path = f'/vectron/experiments_docker/source/{source_p}/{exec_name}'\n",
    "                \n",
    "        result = exec(mode, exec_path, ds_type)\n",
    "        formatted_name = f\"{name:<{col1_width}}\"\n",
    "        formatted_result = f\"{result:<{col2_width}}\"\n",
    "        formatted_row = (formatted_name, formatted_result)\n",
    "        results.append(formatted_row)\n",
    "        print(tabulate([results[-1]], headers=headers, tablefmt=\"pretty\"))"
   ]
  },
  {
   "cell_type": "markdown",
   "id": "8293e8a9-d550-4861-876a-c56a68963ae1",
   "metadata": {},
   "source": [
    "The following module will compile vectron, codon and C++ benchmarks on CPU in integer mode.\n",
    "The path to source codes for each script can be found in its compile command."
   ]
  },
  {
   "cell_type": "code",
   "execution_count": null,
   "id": "f10924f1-054e-4453-8d08-78fb8b297118",
   "metadata": {},
   "outputs": [],
   "source": [
    "## COMPILING VECTRON EXPERIMENTS:\n",
    "compile('vectron', '/vectron/experiments_docker/source/vectron_int/smith_waterman.codon', '/vectron/experiments_docker/source/vectron')\n",
    "compile('vectron', '/vectron/experiments_docker/source/vectron_int/needleman_wunsch.codon', '/vectron/experiments_docker/source/vectron')\n",
    "compile('vectron', '/vectron/experiments_docker/source/vectron_int/levenshtein_distance.codon', '/vectron/experiments_docker/source/vectron')\n",
    "compile('vectron', '/vectron/experiments_docker/source/vectron_int/lcs.codon', '/vectron/experiments_docker/source/vectron')\n",
    "compile('vectron', '/vectron/experiments_docker/source/vectron_int/hamming_distance.codon', '/vectron/experiments_docker/source/vectron')\n",
    "compile('vectron', '/vectron/experiments_docker/source/vectron_int/manhattan_tourist.codon', '/vectron/experiments_docker/source/vectron')\n",
    "compile('vectron', '/vectron/experiments_docker/source/vectron_int/min_cost_path.codon', '/vectron/experiments_docker/source/vectron')\n",
    "\n",
    "## COMPILING codon EXPERIMENTS:\n",
    "compile('codon', '/vectron/experiments_docker/source/codon/smith_waterman.codon')\n",
    "compile('codon', '/vectron/experiments_docker/source/codon/needleman_wunsch.codon')\n",
    "compile('codon', '/vectron/experiments_docker/source/codon/levenshtein_distance.codon')\n",
    "compile('codon', '/vectron/experiments_docker/source/codon/lcs.codon')\n",
    "compile('codon', '/vectron/experiments_docker/source/codon/hamming_distance.codon')\n",
    "compile('codon', '/vectron/experiments_docker/source/codon/manhattan_tourist.codon')\n",
    "compile('codon', '/vectron/experiments_docker/source/codon/min_cost_path.codon')\n",
    "\n",
    "## COMPILING C++ EXPERIMENTS:\n",
    "compile('cpp', '/vectron/experiments_docker/source/cpp/smith_waterman.cpp')\n",
    "compile('cpp', '/vectron/experiments_docker/source/cpp/needleman_wunsch.cpp')\n",
    "compile('cpp', '/vectron/experiments_docker/source/cpp/levenshtein_distance.cpp')\n",
    "compile('cpp', '/vectron/experiments_docker/source/cpp/lcs.cpp')\n",
    "compile('cpp', '/vectron/experiments_docker/source/cpp/hamming_distance.cpp')\n",
    "compile('cpp', '/vectron/experiments_docker/source/cpp/manhattan_tourist.cpp')\n",
    "compile('cpp', '/vectron/experiments_docker/source/cpp/min_cost_path.cpp')"
   ]
  },
  {
   "cell_type": "markdown",
   "id": "61fe3d72",
   "metadata": {},
   "source": [
    "The following module will execute vectron, codon and C++ respectively, and benchmark their runtimes for the small dataset (4096 sequence pairs)"
   ]
  },
  {
   "cell_type": "code",
   "execution_count": null,
   "id": "068949c5-51e0-4aba-b1d4-8fde6a81b044",
   "metadata": {
    "scrolled": true
   },
   "outputs": [],
   "source": [
    "batch_exec('vectron', 'int_small')\n",
    "\n",
    "batch_exec('codon', 'int_small')\n",
    "\n",
    "batch_exec('cpp', 'int_small')"
   ]
  },
  {
   "cell_type": "markdown",
   "id": "afd01ab3",
   "metadata": {},
   "source": [
    "The following module will execute vectron, codon and C++ respectively, and benchmark their runtimes for the medium dataset (262,144 sequence pairs)"
   ]
  },
  {
   "cell_type": "code",
   "execution_count": null,
   "id": "1f81b0ca-c2a3-4dd7-a759-c0554b4f6f94",
   "metadata": {},
   "outputs": [],
   "source": [
    "batch_exec('vectron', 'int_medium')\n",
    "\n",
    "batch_exec('codon', 'int_medium')\n",
    "\n",
    "batch_exec('cpp', 'int_medium')"
   ]
  },
  {
   "cell_type": "markdown",
   "id": "7777c79a",
   "metadata": {},
   "source": [
    "The following module will execute vectron, codon and C++ respectively, and benchmark their runtimes for the large dataset (4,194,304 sequence pairs)"
   ]
  },
  {
   "cell_type": "code",
   "execution_count": null,
   "id": "00a5badb-feb7-468c-bae8-49d47c083ed9",
   "metadata": {},
   "outputs": [],
   "source": [
    "batch_exec('vectron', 'int_large')"
   ]
  },
  {
   "cell_type": "code",
   "execution_count": null,
   "id": "26b10a9b-9998-467c-a173-069c3543c2e5",
   "metadata": {},
   "outputs": [],
   "source": [
    "batch_exec('codon', 'int_large')"
   ]
  },
  {
   "cell_type": "code",
   "execution_count": null,
   "id": "084bd2c2-158d-4164-bf84-21dc64ff535d",
   "metadata": {},
   "outputs": [],
   "source": [
    "batch_exec('cpp', 'int_large')"
   ]
  },
  {
   "cell_type": "markdown",
   "id": "220c0817",
   "metadata": {},
   "source": [
    "### The following module will compile vectron, cuda and C++ benchmarks on GPU in floating-point mode"
   ]
  },
  {
   "cell_type": "code",
   "execution_count": null,
   "id": "ef0aa12a",
   "metadata": {},
   "outputs": [],
   "source": [
    "## COMPILING VECTRON EXPERIMENT:\n",
    "compile('vectron', '/vectron/experiments_docker/source/vectron_float/smith_waterman.codon', '/vectron/experiments_docker/source/vectron')\n",
    "\n",
    "## COMPILING cuda EXPERIMENT:\n",
    "compile('cuda', '/vectron/experiments_docker/source/cuda/smith_waterman_cuda.cu')\n",
    "\n",
    "## COMPILING C++ EXPERIMENT:\n",
    "compile('cpp', '/vectron/experiments_docker/source/cuda/smith_waterman.cpp')"
   ]
  },
  {
   "cell_type": "markdown",
   "id": "d270a44a",
   "metadata": {},
   "source": [
    "### The following module will execute vectron, codon and C++ respectively, and benchmark their runtimes for the small GPU dataset (256 sequence pairs)"
   ]
  },
  {
   "cell_type": "code",
   "execution_count": null,
   "id": "15fbd2cd",
   "metadata": {
    "scrolled": true
   },
   "outputs": [],
   "source": [
    "#RUNNING VECTRON EXPERIMENT:\n",
    "print(\"vectron Smith Waterman Time:\")\n",
    "exec('vectron', '/vectron/experiments_docker/source/vectron_float/smith_waterman', 'float_small')\n",
    "\n",
    "#RUNNIG cuda EXPERIMENT:\n",
    "print(\"cuda Smith Waterman Time:\")\n",
    "exec('cuda', '/vectron/experiments_docker/source/cuda/smith_waterman_cuda', 'float_small')\n",
    "\n",
    "#RUNNING C++ EXPERIMENT:\n",
    "print(\"C++ Float Smith Waterman Time:\")\n",
    "exec('cpp', '/vectron/experiments_docker/source/cuda/smith_waterman', 'float_small')"
   ]
  },
  {
   "cell_type": "markdown",
   "id": "ea895c7d",
   "metadata": {},
   "source": [
    "### The following module will execute vectron, codon and C++ respectively, and benchmark their runtimes for the medium GPU dataset (1024 sequence pairs)"
   ]
  },
  {
   "cell_type": "code",
   "execution_count": null,
   "id": "6fad4340",
   "metadata": {},
   "outputs": [],
   "source": [
    "#RUNNING VECTRON EXPERIMENT:\n",
    "print(\"vectron Smith Waterman Time:\")\n",
    "exec('vectron', '/vectron/experiments_docker/source/vectron_float/smith_waterman', 'float_medium')\n",
    "\n",
    "#RUNNIG cuda EXPERIMENT:\n",
    "print(\"cuda Smith Waterman Time:\")\n",
    "exec('cuda', '/vectron/experiments_docker/source/cuda/smith_waterman_cuda', 'float_medium')\n",
    "\n",
    "#RUNNING C++ EXPERIMENT:\n",
    "print(\"C++ Float Smith Waterman Time:\")\n",
    "exec('cpp', '/vectron/experiments_docker/source/cuda/smith_waterman', 'float_medium')"
   ]
  },
  {
   "cell_type": "markdown",
   "id": "c1f1438f",
   "metadata": {},
   "source": [
    "### The following module will execute vectron, codon and C++ respectively, and benchmark their runtimes for the large GPU dataset (4096 sequence pairs)"
   ]
  },
  {
   "cell_type": "code",
   "execution_count": null,
   "id": "4a182b00",
   "metadata": {},
   "outputs": [],
   "source": [
    "#RUNNING VECTRON EXPERIMENT:\n",
    "print(\"vectron Smith Waterman Time:\")\n",
    "exec('vectron', '/vectron/experiments_docker/source/vectron_float/smith_waterman', 'float_large')\n",
    "\n",
    "#RUNNIG cuda EXPERIMENT:\n",
    "print(\"cuda Smith Waterman Time:\")\n",
    "exec('cuda', '/vectron/experiments_docker/source/cuda/smith_waterman_cuda', 'float_large')\n",
    "\n",
    "#RUNNING C++ EXPERIMENT:\n",
    "print(\"C++ Float Smith Waterman Time:\")\n",
    "exec('cpp', '/vectron/experiments_docker/source/cuda/smith_waterman', 'float_large')"
   ]
  }
 ],
 "metadata": {
  "kernelspec": {
   "display_name": "Python 3 (ipykernel)",
   "language": "python",
   "name": "python3"
  },
  "language_info": {
   "codemirror_mode": {
    "name": "ipython",
    "version": 3
   },
   "file_extension": ".py",
   "mimetype": "text/x-python",
   "name": "python",
   "nbconvert_exporter": "python",
   "pygments_lexer": "ipython3",
   "version": "3.10.5"
  }
 },
 "nbformat": 4,
 "nbformat_minor": 5
}
